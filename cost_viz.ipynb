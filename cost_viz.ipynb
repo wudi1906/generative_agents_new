{
 "cells": [
  {
   "cell_type": "code",
   "execution_count": 1,
   "metadata": {},
   "outputs": [],
   "source": [
    "%load_ext autoreload\n",
    "%autoreload 2"
   ]
  },
  {
   "cell_type": "code",
   "execution_count": 2,
   "metadata": {},
   "outputs": [
    {
     "name": "stdout",
     "output_type": "stream",
     "text": [
      "Requirement already satisfied: openai-cost-logger==0.4.1 in /home/drudao/anaconda3/envs/simulacra/lib/python3.9/site-packages (0.4.1)\n",
      "Requirement already satisfied: openai in /home/drudao/anaconda3/envs/simulacra/lib/python3.9/site-packages (from openai-cost-logger==0.4.1) (1.13.3)\n",
      "Requirement already satisfied: pandas in /home/drudao/anaconda3/envs/simulacra/lib/python3.9/site-packages (from openai-cost-logger==0.4.1) (2.0.3)\n",
      "Requirement already satisfied: matplotlib in /home/drudao/anaconda3/envs/simulacra/lib/python3.9/site-packages (from openai-cost-logger==0.4.1) (3.6.3)\n",
      "Requirement already satisfied: contourpy>=1.0.1 in /home/drudao/anaconda3/envs/simulacra/lib/python3.9/site-packages (from matplotlib->openai-cost-logger==0.4.1) (1.2.1)\n",
      "Requirement already satisfied: cycler>=0.10 in /home/drudao/anaconda3/envs/simulacra/lib/python3.9/site-packages (from matplotlib->openai-cost-logger==0.4.1) (0.11.0)\n",
      "Requirement already satisfied: fonttools>=4.22.0 in /home/drudao/anaconda3/envs/simulacra/lib/python3.9/site-packages (from matplotlib->openai-cost-logger==0.4.1) (4.51.0)\n",
      "Requirement already satisfied: kiwisolver>=1.0.1 in /home/drudao/anaconda3/envs/simulacra/lib/python3.9/site-packages (from matplotlib->openai-cost-logger==0.4.1) (1.4.4)\n",
      "Requirement already satisfied: numpy>=1.19 in /home/drudao/anaconda3/envs/simulacra/lib/python3.9/site-packages (from matplotlib->openai-cost-logger==0.4.1) (1.25.2)\n",
      "Requirement already satisfied: packaging>=20.0 in /home/drudao/anaconda3/envs/simulacra/lib/python3.9/site-packages (from matplotlib->openai-cost-logger==0.4.1) (23.0)\n",
      "Requirement already satisfied: pillow>=6.2.0 in /home/drudao/anaconda3/envs/simulacra/lib/python3.9/site-packages (from matplotlib->openai-cost-logger==0.4.1) (8.4.0)\n",
      "Requirement already satisfied: pyparsing>=2.2.1 in /home/drudao/anaconda3/envs/simulacra/lib/python3.9/site-packages (from matplotlib->openai-cost-logger==0.4.1) (3.0.6)\n",
      "Requirement already satisfied: python-dateutil>=2.7 in /home/drudao/anaconda3/envs/simulacra/lib/python3.9/site-packages (from matplotlib->openai-cost-logger==0.4.1) (2.8.2)\n",
      "Requirement already satisfied: anyio<5,>=3.5.0 in /home/drudao/anaconda3/envs/simulacra/lib/python3.9/site-packages (from openai->openai-cost-logger==0.4.1) (4.3.0)\n",
      "Requirement already satisfied: distro<2,>=1.7.0 in /home/drudao/anaconda3/envs/simulacra/lib/python3.9/site-packages (from openai->openai-cost-logger==0.4.1) (1.9.0)\n",
      "Requirement already satisfied: httpx<1,>=0.23.0 in /home/drudao/anaconda3/envs/simulacra/lib/python3.9/site-packages (from openai->openai-cost-logger==0.4.1) (0.27.0)\n",
      "Requirement already satisfied: pydantic<3,>=1.9.0 in /home/drudao/anaconda3/envs/simulacra/lib/python3.9/site-packages (from openai->openai-cost-logger==0.4.1) (2.7.1)\n",
      "Requirement already satisfied: sniffio in /home/drudao/anaconda3/envs/simulacra/lib/python3.9/site-packages (from openai->openai-cost-logger==0.4.1) (1.3.0)\n",
      "Requirement already satisfied: tqdm>4 in /home/drudao/anaconda3/envs/simulacra/lib/python3.9/site-packages (from openai->openai-cost-logger==0.4.1) (4.62.3)\n",
      "Requirement already satisfied: typing-extensions<5,>=4.7 in /home/drudao/anaconda3/envs/simulacra/lib/python3.9/site-packages (from openai->openai-cost-logger==0.4.1) (4.11.0)\n",
      "Requirement already satisfied: pytz>=2020.1 in /home/drudao/anaconda3/envs/simulacra/lib/python3.9/site-packages (from pandas->openai-cost-logger==0.4.1) (2021.3)\n",
      "Requirement already satisfied: tzdata>=2022.1 in /home/drudao/anaconda3/envs/simulacra/lib/python3.9/site-packages (from pandas->openai-cost-logger==0.4.1) (2024.1)\n",
      "Requirement already satisfied: idna>=2.8 in /home/drudao/anaconda3/envs/simulacra/lib/python3.9/site-packages (from anyio<5,>=3.5.0->openai->openai-cost-logger==0.4.1) (3.3)\n",
      "Requirement already satisfied: exceptiongroup>=1.0.2 in /home/drudao/anaconda3/envs/simulacra/lib/python3.9/site-packages (from anyio<5,>=3.5.0->openai->openai-cost-logger==0.4.1) (1.1.0)\n",
      "Requirement already satisfied: certifi in /home/drudao/anaconda3/envs/simulacra/lib/python3.9/site-packages (from httpx<1,>=0.23.0->openai->openai-cost-logger==0.4.1) (2021.10.8)\n",
      "Requirement already satisfied: httpcore==1.* in /home/drudao/anaconda3/envs/simulacra/lib/python3.9/site-packages (from httpx<1,>=0.23.0->openai->openai-cost-logger==0.4.1) (1.0.5)\n",
      "Requirement already satisfied: h11<0.15,>=0.13 in /home/drudao/anaconda3/envs/simulacra/lib/python3.9/site-packages (from httpcore==1.*->httpx<1,>=0.23.0->openai->openai-cost-logger==0.4.1) (0.14.0)\n",
      "Requirement already satisfied: annotated-types>=0.4.0 in /home/drudao/anaconda3/envs/simulacra/lib/python3.9/site-packages (from pydantic<3,>=1.9.0->openai->openai-cost-logger==0.4.1) (0.6.0)\n",
      "Requirement already satisfied: pydantic-core==2.18.2 in /home/drudao/anaconda3/envs/simulacra/lib/python3.9/site-packages (from pydantic<3,>=1.9.0->openai->openai-cost-logger==0.4.1) (2.18.2)\n",
      "Requirement already satisfied: six>=1.5 in /home/drudao/anaconda3/envs/simulacra/lib/python3.9/site-packages (from python-dateutil>=2.7->matplotlib->openai-cost-logger==0.4.1) (1.16.0)\n",
      "Note: you may need to restart the kernel to use updated packages.\n"
     ]
    }
   ],
   "source": [
    "%pip install openai-cost-logger==0.4.1"
   ]
  },
  {
   "cell_type": "code",
   "execution_count": 3,
   "metadata": {},
   "outputs": [
    {
     "name": "stdout",
     "output_type": "stream",
     "text": [
      "imported openai-cost-logger\n"
     ]
    }
   ],
   "source": [
    "from openai_cost_logger import OpenAICostLoggerViz"
   ]
  },
  {
   "cell_type": "code",
   "execution_count": 4,
   "metadata": {},
   "outputs": [],
   "source": [
    "log_path = \"reverie/backend_server/cost-logs/\""
   ]
  },
  {
   "cell_type": "code",
   "execution_count": 5,
   "metadata": {},
   "outputs": [
    {
     "name": "stdout",
     "output_type": "stream",
     "text": [
      "Total cost: 5.565314 (USD)\n"
     ]
    }
   ],
   "source": [
    "OpenAICostLoggerViz.print_total_cost(path=log_path)"
   ]
  },
  {
   "cell_type": "code",
   "execution_count": 6,
   "metadata": {},
   "outputs": [
    {
     "data": {
      "image/png": "[encoded data removed]",
      "text/plain": [
       "<Figure size 640x480 with 1 Axes>"
      ]
     },
     "metadata": {},
     "output_type": "display_data"
    }
   ],
   "source": [
    "OpenAICostLoggerViz.plot_cost_by_day(path=log_path)"
   ]
  },
  {
   "cell_type": "code",
   "execution_count": null,
   "metadata": {},
   "outputs": [],
   "source": []
  }
 ],
 "metadata": {
  "kernelspec": {
   "display_name": "simulacra",
   "language": "python",
   "name": "python3"
  },
  "language_info": {
   "codemirror_mode": {
    "name": "ipython",
    "version": 3
   },
   "file_extension": ".py",
   "mimetype": "text/x-python",
   "name": "python",
   "nbconvert_exporter": "python",
   "pygments_lexer": "ipython3",
   "version": "3.9.18"
  }
 },
 "nbformat": 4,
 "nbformat_minor": 2
}
