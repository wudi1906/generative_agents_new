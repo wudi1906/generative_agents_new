{
 "cells": [
  {
   "cell_type": "markdown",
   "metadata": {},
   "source": [
    "### Single survey POC"
   ]
  },
  {
   "cell_type": "code",
   "execution_count": 4,
   "metadata": {},
   "outputs": [],
   "source": [
    "import sys\n",
    "import os\n",
    "from reverie import ReverieServer\n",
    "from tqdm import tqdm\n",
    "from contextlib import contextmanager\n",
    "\n",
    "@contextmanager\n",
    "def suppress_output():\n",
    "    # Save the current stdout\n",
    "    original_stdout = sys.stdout\n",
    "    # Redirect stdout to the null device\n",
    "    sys.stdout = open(os.devnull, 'w')\n",
    "    try:\n",
    "        yield\n",
    "    finally:\n",
    "        # Restore the original stdout\n",
    "        sys.stdout.close()\n",
    "        sys.stdout = original_stdout"
   ]
  },
  {
   "cell_type": "code",
   "execution_count": 2,
   "metadata": {},
   "outputs": [],
   "source": [
    "# remove temp folder if it exists\n",
    "if os.path.exists(\"../../environment/frontend_server/storage/_temp\"):\n",
    "    os.system(\"rm -rf ../../environment/frontend_server/storage/_temp\")\n",
    "\n",
    "PATH = \"base_the_ville_smol_elections_5_voters_2days/base_the_ville_smol_elections_5_voters_2days-s-142-15463-15594\"\n",
    "\n",
    "rs = ReverieServer(PATH, \"_temp\")"
   ]
  },
  {
   "cell_type": "code",
   "execution_count": 3,
   "metadata": {},
   "outputs": [],
   "source": [
    "# with suppress_output():\n",
    "#     o = rs.personas[\"Maria Lopez\"].open_convo_session(\"analysis\", direct=True, question=\"Who are you planning to vote in the coming elections?\")"
   ]
  },
  {
   "cell_type": "code",
   "execution_count": 5,
   "metadata": {},
   "outputs": [
    {
     "name": "stderr",
     "output_type": "stream",
     "text": [
      "100%|██████████| 7/7 [00:24<00:00,  3.50s/it]\n"
     ]
    }
   ],
   "source": [
    "survey_question = \"Who are you planning to vote in the coming elections?\"\n",
    "\n",
    "convos = []\n",
    "for persona in tqdm(rs.personas.values()):\n",
    "    with suppress_output():\n",
    "        convos.append(persona.open_convo_session(\"analysis\", direct=True, question=survey_question)[-1])\n"
   ]
  },
  {
   "cell_type": "code",
   "execution_count": 6,
   "metadata": {},
   "outputs": [
    {
     "data": {
      "text/plain": [
       "[['Isabella Rodriguez',\n",
       "  'I am still in the process of evaluating the candidates Klaus Mauller and Maria Lopez for the upcoming town elections. I am planning to discuss my thoughts on this matter with Adam Smith over coffee at Hobbs Cafe tomorrow. I want to make an informed decision and consider the best candidate for our community.'],\n",
       " ['Maria Lopez',\n",
       "  \"I'm still undecided at the moment. I'm researching and learning more about the candidates and their policies before making my decision. It's important to me to make an informed choice based on the issues that matter most to me and my community.\"],\n",
       " ['Klaus Mueller',\n",
       "  \"I haven't decided yet. I'm still gathering information on the candidates and their platforms. I think it's important to make an informed decision based on their stance on issues that matter to me, like social justice and community development.\"],\n",
       " ['Abigail Chen',\n",
       "  \"I'm still exploring all the candidates' proposals and attending events to understand their platforms better. I am planning to meet with Maria Lopez to discuss her proposals, and I have also been following Klaus Mauller's campaign. I want to make an informed decision based on their ideas and plans for our town.\"],\n",
       " ['Adam Smith',\n",
       "  'I am planning to vote for Maria Lopez in the upcoming elections. I have had the opportunity to discuss policies and backgrounds with her, and I believe she is the best candidate for affordable housing and urban development in our town.'],\n",
       " ['Arthur Burton',\n",
       "  \"I am planning to attend Maria Lopez's event to learn more about her community engagement platform and ways to support the candidates moving forward. I am also discussing research findings on Maria Lopez and Klaus Mauller's backgrounds with Adam Smith and planning to compare policies and proposals to make informed decisions to support both candidates' campaigns.\"],\n",
       " ['Ayesha Khan',\n",
       "  \"I haven't decided yet. I am still researching and analyzing the candidates and their platforms to make an informed decision. It's important to me to vote for someone who aligns with my values and priorities.\"]]"
      ]
     },
     "execution_count": 6,
     "metadata": {},
     "output_type": "execute_result"
    }
   ],
   "source": [
    "convos"
   ]
  },
  {
   "cell_type": "code",
   "execution_count": 20,
   "metadata": {},
   "outputs": [],
   "source": [
    "import persona.prompt_template.gpt_structure as gpt_structure\n",
    "\n",
    "gpt_param = {\"engine\": \"gpt-35-turbo-0125\", \"max_tokens\": 250, \n",
    "            \"temperature\": 0, \"top_p\": 1, \"stream\": False,\n",
    "            \"frequency_penalty\": 0, \"presence_penalty\": 0, \"stop\": None}\n",
    "\n",
    "extract_prompt = \"You are given a response to a survey question \\\"Who are you planning to vote in the coming elections?\\\". Extract and write the name of the candidate mentioned in the response or write None if the responder have not decided yet. Respond with the name of the candidate or None. Response: {response}\""
   ]
  },
  {
   "cell_type": "code",
   "execution_count": 25,
   "metadata": {},
   "outputs": [
    {
     "name": "stdout",
     "output_type": "stream",
     "text": [
      "Person: Isabella Rodriguez\n",
      "Response: I am still in the process of evaluating the candidates Klaus Mauller and Maria Lopez for the upcoming town elections. I am planning to discuss my thoughts on this matter with Adam Smith over coffee at Hobbs Cafe tomorrow. I want to make an informed decision and consider the best candidate for our community.\n",
      "Predicted: None\n",
      "\n",
      "\n",
      "\n",
      "Person: Maria Lopez\n",
      "Response: I'm still undecided at the moment. I'm researching and learning more about the candidates and their policies before making my decision. It's important to me to make an informed choice based on the issues that matter most to me and my community.\n",
      "Predicted: None\n",
      "\n",
      "\n",
      "\n",
      "Person: Klaus Mueller\n",
      "Response: I haven't decided yet. I'm still gathering information on the candidates and their platforms. I think it's important to make an informed decision based on their stance on issues that matter to me, like social justice and community development.\n",
      "Predicted: None\n",
      "\n",
      "\n",
      "\n",
      "Person: Abigail Chen\n",
      "Response: I'm still exploring all the candidates' proposals and attending events to understand their platforms better. I am planning to meet with Maria Lopez to discuss her proposals, and I have also been following Klaus Mauller's campaign. I want to make an informed decision based on their ideas and plans for our town.\n",
      "Predicted: None\n",
      "\n",
      "\n",
      "\n",
      "Person: Adam Smith\n",
      "Response: I am planning to vote for Maria Lopez in the upcoming elections. I have had the opportunity to discuss policies and backgrounds with her, and I believe she is the best candidate for affordable housing and urban development in our town.\n",
      "Predicted: Maria Lopez\n",
      "\n",
      "\n",
      "\n",
      "Person: Arthur Burton\n",
      "Response: I am planning to attend Maria Lopez's event to learn more about her community engagement platform and ways to support the candidates moving forward. I am also discussing research findings on Maria Lopez and Klaus Mauller's backgrounds with Adam Smith and planning to compare policies and proposals to make informed decisions to support both candidates' campaigns.\n",
      "Predicted: Maria Lopez\n",
      "\n",
      "\n",
      "\n",
      "Person: Ayesha Khan\n",
      "Response: I haven't decided yet. I am still researching and analyzing the candidates and their platforms to make an informed decision. It's important to me to vote for someone who aligns with my values and priorities.\n",
      "Predicted: None\n",
      "\n",
      "\n",
      "\n"
     ]
    }
   ],
   "source": [
    "for convo in convos:\n",
    "    print(f\"Person: {convo[0]}\")\n",
    "    print(f\"Response: {convo[-1]}\")\n",
    "    print(f\"Predicted: {gpt_structure.GPT_request(extract_prompt.format(response=convo[-1]), gpt_param)}\")\n",
    "    print(\"\\n\\n\")"
   ]
  },
  {
   "cell_type": "markdown",
   "metadata": {},
   "source": [
    "### Multisurvey"
   ]
  },
  {
   "cell_type": "code",
   "execution_count": 22,
   "metadata": {},
   "outputs": [],
   "source": [
    "import sys\n",
    "import os\n",
    "import pickle\n",
    "import datetime\n",
    "import pandas as pd\n",
    "import numpy as np\n",
    "import matplotlib.pyplot as plt\n",
    "import seaborn as sns\n",
    "from tqdm import tqdm\n",
    "from contextlib import contextmanager\n",
    "\n",
    "import persona.prompt_template.gpt_structure as gpt_structure\n",
    "from reverie import ReverieServer\n",
    "\n",
    "sns.set_style(\"whitegrid\")\n",
    "\n",
    "\n",
    "@contextmanager\n",
    "def suppress_output():\n",
    "    original_stdout = sys.stdout\n",
    "    sys.stdout = open(os.devnull, 'w')\n",
    "    try:\n",
    "        yield\n",
    "    finally:\n",
    "        sys.stdout.close()\n",
    "        sys.stdout = original_stdout\n",
    "\n",
    "def get_folders(path):\n",
    "    return [f for f in os.listdir(path) if os.path.isdir(os.path.join(path, f))]\n",
    "\n",
    "def get_files(path, str_in_name=None):\n",
    "    if str_in_name is None:\n",
    "        files = [f for f in os.listdir(path) if os.path.isfile(os.path.join(path, f))]\n",
    "    else:\n",
    "        files = [f for f in os.listdir(path) if os.path.isfile(os.path.join(path, f)) and str_in_name in f]\n",
    "    files.sort(key=lambda x: int(x.split(\"_\")[-1].split(\".\")[0]))\n",
    "    return files\n",
    "\n",
    "def clean_start_server(path):\n",
    "    if os.path.exists(\"../../environment/frontend_server/storage/_temp\"):\n",
    "        os.system(\"rm -rf ../../environment/frontend_server/storage/_temp\")\n",
    "\n",
    "    rs = ReverieServer(path, \"_temp\")\n",
    "    return rs\n",
    "\n",
    "def get_survey_responses(rs, survey_question):\n",
    "    convos = []\n",
    "    for persona in tqdm(rs.personas.values()):\n",
    "        with suppress_output():\n",
    "            convos.append(persona.open_convo_session(\"analysis\", direct=True, question=survey_question)[-1])\n",
    "    return convos\n",
    "\n",
    "def extract_survey_responses(convos, extract_prompt, gpt_param):\n",
    "    predictions = []\n",
    "    for convo in convos:\n",
    "        predictions.append((convo[-1], gpt_structure.GPT_request(extract_prompt.format(response=convo[-1]), gpt_param)))\n",
    "    return predictions\n",
    "\n",
    "def update_results(results, predictions):\n",
    "    for i, (response, prediction) in enumerate(predictions):\n",
    "        if prediction in results:\n",
    "            results[prediction] += 1\n",
    "        else:\n",
    "            results[prediction] = 1\n",
    "    return results\n",
    "\n",
    "def save_file(results, path):\n",
    "    with open(path, \"wb\") as f:\n",
    "        pickle.dump(results, f)\n",
    "\n",
    "def load_file(path):\n",
    "    with open(path, \"rb\") as f:\n",
    "        return pickle.load(f)\n",
    "\n",
    "gpt_param = {\"engine\": \"gpt-35-turbo-0125\", \"max_tokens\": 250, \n",
    "            \"temperature\": 0, \"top_p\": 1, \"stream\": False,\n",
    "            \"frequency_penalty\": 0, \"presence_penalty\": 0, \"stop\": None}\n",
    "\n",
    "extract_survey_prompt = \"You are given a response to a survey question \\\"Who are you planning to vote in the coming elections?\\\". Extract and write the name of the candidate mentioned in the response or write None if the responder have not decided yet. The two candidates that are running are: Klaus Mueller and Maria Lopez. Respond with the name of the candidate or None. Response: {response}\""
   ]
  },
  {
   "cell_type": "code",
   "execution_count": 17,
   "metadata": {},
   "outputs": [
    {
     "name": "stderr",
     "output_type": "stream",
     "text": [
      "100%|██████████| 7/7 [00:25<00:00,  3.64s/it]\n",
      "  1%|          | 1/151 [00:31<1:17:36, 31.04s/it]"
     ]
    },
    {
     "name": "stdout",
     "output_type": "stream",
     "text": [
      "{'step': '0', 'None': 7}\n"
     ]
    },
    {
     "name": "stderr",
     "output_type": "stream",
     "text": [
      "100%|██████████| 7/7 [00:27<00:00,  3.90s/it]\n",
      "  1%|▏         | 2/151 [01:01<1:16:37, 30.85s/it]"
     ]
    },
    {
     "name": "stdout",
     "output_type": "stream",
     "text": [
      "{'step': '199', 'None': 7}\n"
     ]
    },
    {
     "name": "stderr",
     "output_type": "stream",
     "text": [
      "100%|██████████| 7/7 [00:23<00:00,  3.37s/it]\n",
      "  2%|▏         | 3/151 [01:29<1:12:02, 29.21s/it]"
     ]
    },
    {
     "name": "stdout",
     "output_type": "stream",
     "text": [
      "{'step': '399', 'None': 7}\n"
     ]
    },
    {
     "name": "stderr",
     "output_type": "stream",
     "text": [
      "100%|██████████| 7/7 [00:26<00:00,  3.82s/it]\n",
      "  3%|▎         | 4/151 [02:00<1:13:34, 30.03s/it]"
     ]
    },
    {
     "name": "stdout",
     "output_type": "stream",
     "text": [
      "{'step': '599', 'None': 7}\n"
     ]
    },
    {
     "name": "stderr",
     "output_type": "stream",
     "text": [
      "100%|██████████| 7/7 [00:26<00:00,  3.84s/it]\n",
      "  3%|▎         | 5/151 [02:31<1:13:40, 30.27s/it]"
     ]
    },
    {
     "name": "stdout",
     "output_type": "stream",
     "text": [
      "{'step': '799', 'Klaus Mueller': 1, 'None': 6}\n"
     ]
    },
    {
     "name": "stderr",
     "output_type": "stream",
     "text": [
      "100%|██████████| 7/7 [00:25<00:00,  3.70s/it]\n",
      "  4%|▍         | 6/151 [03:00<1:12:51, 30.15s/it]"
     ]
    },
    {
     "name": "stdout",
     "output_type": "stream",
     "text": [
      "{'step': '999', 'None': 7}\n"
     ]
    },
    {
     "name": "stderr",
     "output_type": "stream",
     "text": [
      "100%|██████████| 7/7 [00:25<00:00,  3.65s/it]\n",
      "  5%|▍         | 7/151 [03:30<1:11:59, 30.00s/it]"
     ]
    },
    {
     "name": "stdout",
     "output_type": "stream",
     "text": [
      "{'step': '1199', 'None': 7}\n"
     ]
    },
    {
     "name": "stderr",
     "output_type": "stream",
     "text": [
      "100%|██████████| 7/7 [00:27<00:00,  3.90s/it]\n",
      "  5%|▌         | 8/151 [04:02<1:12:48, 30.55s/it]"
     ]
    },
    {
     "name": "stdout",
     "output_type": "stream",
     "text": [
      "{'step': '1399', 'None': 7}\n"
     ]
    },
    {
     "name": "stderr",
     "output_type": "stream",
     "text": [
      "100%|██████████| 7/7 [00:24<00:00,  3.49s/it]\n",
      "  6%|▌         | 9/151 [04:31<1:11:06, 30.05s/it]"
     ]
    },
    {
     "name": "stdout",
     "output_type": "stream",
     "text": [
      "{'step': '1599', 'None': 7}\n"
     ]
    },
    {
     "name": "stderr",
     "output_type": "stream",
     "text": [
      "100%|██████████| 7/7 [00:29<00:00,  4.24s/it]\n",
      "  7%|▋         | 10/151 [05:06<1:14:41, 31.78s/it]"
     ]
    },
    {
     "name": "stdout",
     "output_type": "stream",
     "text": [
      "{'step': '1799', 'None': 7}\n"
     ]
    },
    {
     "name": "stderr",
     "output_type": "stream",
     "text": [
      "100%|██████████| 7/7 [00:24<00:00,  3.47s/it]\n",
      "  7%|▋         | 11/151 [05:35<1:12:01, 30.87s/it]"
     ]
    },
    {
     "name": "stdout",
     "output_type": "stream",
     "text": [
      "{'step': '1999', 'None': 7}\n"
     ]
    },
    {
     "name": "stderr",
     "output_type": "stream",
     "text": [
      "100%|██████████| 7/7 [00:25<00:00,  3.62s/it]\n",
      "  8%|▊         | 12/151 [06:05<1:10:50, 30.58s/it]"
     ]
    },
    {
     "name": "stdout",
     "output_type": "stream",
     "text": [
      "{'step': '2199', 'None': 7}\n"
     ]
    },
    {
     "name": "stderr",
     "output_type": "stream",
     "text": [
      "100%|██████████| 7/7 [00:28<00:00,  4.10s/it]\n",
      "  9%|▊         | 13/151 [06:39<1:12:23, 31.48s/it]"
     ]
    },
    {
     "name": "stdout",
     "output_type": "stream",
     "text": [
      "{'step': '2399', 'None': 7}\n"
     ]
    },
    {
     "name": "stderr",
     "output_type": "stream",
     "text": [
      "100%|██████████| 7/7 [00:27<00:00,  3.88s/it]\n",
      "  9%|▉         | 14/151 [07:12<1:13:06, 32.02s/it]"
     ]
    },
    {
     "name": "stdout",
     "output_type": "stream",
     "text": [
      "{'step': '2599', 'None': 7}\n"
     ]
    },
    {
     "name": "stderr",
     "output_type": "stream",
     "text": [
      "100%|██████████| 7/7 [00:25<00:00,  3.65s/it]\n",
      " 10%|▉         | 15/151 [07:42<1:11:32, 31.56s/it]"
     ]
    },
    {
     "name": "stdout",
     "output_type": "stream",
     "text": [
      "{'step': '2799', 'None': 7}\n"
     ]
    },
    {
     "name": "stderr",
     "output_type": "stream",
     "text": [
      "100%|██████████| 7/7 [00:26<00:00,  3.85s/it]\n",
      " 11%|█         | 16/151 [08:14<1:11:12, 31.65s/it]"
     ]
    },
    {
     "name": "stdout",
     "output_type": "stream",
     "text": [
      "{'step': '2879', 'None': 7}\n"
     ]
    },
    {
     "name": "stderr",
     "output_type": "stream",
     "text": [
      "100%|██████████| 7/7 [00:24<00:00,  3.56s/it]\n",
      " 11%|█▏        | 17/151 [08:45<1:09:44, 31.22s/it]"
     ]
    },
    {
     "name": "stdout",
     "output_type": "stream",
     "text": [
      "{'step': '2878', 'None': 7}\n"
     ]
    },
    {
     "name": "stderr",
     "output_type": "stream",
     "text": [
      "100%|██████████| 7/7 [00:25<00:00,  3.64s/it]\n",
      " 12%|█▏        | 18/151 [09:15<1:08:41, 30.99s/it]"
     ]
    },
    {
     "name": "stdout",
     "output_type": "stream",
     "text": [
      "{'step': '2877', 'None': 7}\n"
     ]
    },
    {
     "name": "stderr",
     "output_type": "stream",
     "text": [
      "100%|██████████| 7/7 [00:24<00:00,  3.57s/it]\n",
      " 13%|█▎        | 19/151 [09:45<1:07:34, 30.72s/it]"
     ]
    },
    {
     "name": "stdout",
     "output_type": "stream",
     "text": [
      "{'step': '2876', 'None': 7}\n"
     ]
    },
    {
     "name": "stderr",
     "output_type": "stream",
     "text": [
      "100%|██████████| 7/7 [00:22<00:00,  3.22s/it]\n",
      " 13%|█▎        | 20/151 [10:13<1:04:57, 29.75s/it]"
     ]
    },
    {
     "name": "stdout",
     "output_type": "stream",
     "text": [
      "{'step': '2875', 'None': 7}\n"
     ]
    },
    {
     "name": "stderr",
     "output_type": "stream",
     "text": [
      "100%|██████████| 7/7 [00:34<00:00,  4.93s/it]\n",
      " 14%|█▍        | 21/151 [10:53<1:11:05, 32.81s/it]"
     ]
    },
    {
     "name": "stdout",
     "output_type": "stream",
     "text": [
      "{'step': '2874', 'None': 7}\n"
     ]
    },
    {
     "name": "stderr",
     "output_type": "stream",
     "text": [
      "100%|██████████| 7/7 [00:27<00:00,  3.89s/it]\n",
      " 15%|█▍        | 22/151 [11:25<1:10:24, 32.75s/it]"
     ]
    },
    {
     "name": "stdout",
     "output_type": "stream",
     "text": [
      "{'step': '2873', 'None': 7}\n"
     ]
    },
    {
     "name": "stderr",
     "output_type": "stream",
     "text": [
      "100%|██████████| 7/7 [00:29<00:00,  4.26s/it]\n",
      " 15%|█▌        | 23/151 [12:01<1:11:36, 33.57s/it]"
     ]
    },
    {
     "name": "stdout",
     "output_type": "stream",
     "text": [
      "{'step': '2872', 'None': 7}\n"
     ]
    },
    {
     "name": "stderr",
     "output_type": "stream",
     "text": [
      "100%|██████████| 7/7 [00:39<00:00,  5.70s/it]\n",
      " 16%|█▌        | 24/151 [12:46<1:18:45, 37.21s/it]"
     ]
    },
    {
     "name": "stdout",
     "output_type": "stream",
     "text": [
      "{'step': '2871', 'None': 7}\n"
     ]
    },
    {
     "name": "stderr",
     "output_type": "stream",
     "text": [
      "100%|██████████| 7/7 [00:34<00:00,  4.94s/it]\n",
      " 17%|█▋        | 25/151 [13:26<1:19:59, 38.09s/it]"
     ]
    },
    {
     "name": "stdout",
     "output_type": "stream",
     "text": [
      "{'step': '2870', 'None': 7}\n"
     ]
    },
    {
     "name": "stderr",
     "output_type": "stream",
     "text": [
      "100%|██████████| 7/7 [00:29<00:00,  4.16s/it]\n",
      " 17%|█▋        | 26/151 [14:00<1:16:48, 36.87s/it]"
     ]
    },
    {
     "name": "stdout",
     "output_type": "stream",
     "text": [
      "{'step': '2869', 'None': 7}\n"
     ]
    },
    {
     "name": "stderr",
     "output_type": "stream",
     "text": [
      "100%|██████████| 7/7 [00:31<00:00,  4.57s/it]\n",
      " 18%|█▊        | 27/151 [14:38<1:16:29, 37.01s/it]"
     ]
    },
    {
     "name": "stdout",
     "output_type": "stream",
     "text": [
      "{'step': '2868', 'None': 7}\n"
     ]
    },
    {
     "name": "stderr",
     "output_type": "stream",
     "text": [
      "100%|██████████| 7/7 [00:27<00:00,  3.87s/it]\n",
      " 19%|█▊        | 28/151 [15:10<1:12:54, 35.57s/it]"
     ]
    },
    {
     "name": "stdout",
     "output_type": "stream",
     "text": [
      "{'step': '2867', 'None': 7}\n"
     ]
    },
    {
     "name": "stderr",
     "output_type": "stream",
     "text": [
      "100%|██████████| 7/7 [00:30<00:00,  4.32s/it]\n",
      " 19%|█▉        | 29/151 [15:45<1:12:13, 35.52s/it]"
     ]
    },
    {
     "name": "stdout",
     "output_type": "stream",
     "text": [
      "{'step': '2866', 'None': 7}\n"
     ]
    },
    {
     "name": "stderr",
     "output_type": "stream",
     "text": [
      "100%|██████████| 7/7 [00:42<00:00,  6.05s/it]\n",
      " 20%|█▉        | 30/151 [16:34<1:19:20, 39.34s/it]"
     ]
    },
    {
     "name": "stdout",
     "output_type": "stream",
     "text": [
      "{'step': '2865', 'None': 7}\n"
     ]
    },
    {
     "name": "stderr",
     "output_type": "stream",
     "text": [
      "100%|██████████| 7/7 [00:34<00:00,  4.98s/it]\n",
      " 21%|██        | 31/151 [17:14<1:19:05, 39.55s/it]"
     ]
    },
    {
     "name": "stdout",
     "output_type": "stream",
     "text": [
      "{'step': '2864', 'None': 7}\n"
     ]
    },
    {
     "name": "stderr",
     "output_type": "stream",
     "text": [
      "100%|██████████| 7/7 [00:29<00:00,  4.15s/it]\n",
      " 21%|██        | 32/151 [17:48<1:15:35, 38.12s/it]"
     ]
    },
    {
     "name": "stdout",
     "output_type": "stream",
     "text": [
      "{'step': '2863', 'None': 7}\n"
     ]
    },
    {
     "name": "stderr",
     "output_type": "stream",
     "text": [
      "100%|██████████| 7/7 [00:29<00:00,  4.26s/it]\n",
      " 22%|██▏       | 33/151 [18:23<1:13:06, 37.17s/it]"
     ]
    },
    {
     "name": "stdout",
     "output_type": "stream",
     "text": [
      "{'step': '2862', 'None': 7}\n"
     ]
    },
    {
     "name": "stderr",
     "output_type": "stream",
     "text": [
      "100%|██████████| 7/7 [00:34<00:00,  4.91s/it]\n",
      " 23%|██▎       | 34/151 [19:03<1:14:08, 38.02s/it]"
     ]
    },
    {
     "name": "stdout",
     "output_type": "stream",
     "text": [
      "{'step': '2861', 'None': 7}\n"
     ]
    },
    {
     "name": "stderr",
     "output_type": "stream",
     "text": [
      "100%|██████████| 7/7 [00:28<00:00,  4.07s/it]\n",
      " 23%|██▎       | 35/151 [19:37<1:10:55, 36.69s/it]"
     ]
    },
    {
     "name": "stdout",
     "output_type": "stream",
     "text": [
      "{'step': '2860', 'None': 7}\n"
     ]
    },
    {
     "name": "stderr",
     "output_type": "stream",
     "text": [
      "100%|██████████| 7/7 [00:34<00:00,  4.91s/it]\n",
      " 24%|██▍       | 36/151 [20:17<1:12:12, 37.67s/it]"
     ]
    },
    {
     "name": "stdout",
     "output_type": "stream",
     "text": [
      "{'step': '2859', 'None': 7}\n"
     ]
    },
    {
     "name": "stderr",
     "output_type": "stream",
     "text": [
      "100%|██████████| 7/7 [00:33<00:00,  4.82s/it]\n",
      " 25%|██▍       | 37/151 [20:56<1:12:23, 38.10s/it]"
     ]
    },
    {
     "name": "stdout",
     "output_type": "stream",
     "text": [
      "{'step': '2858', 'None': 7}\n"
     ]
    },
    {
     "name": "stderr",
     "output_type": "stream",
     "text": [
      "100%|██████████| 7/7 [00:32<00:00,  4.58s/it]\n",
      " 25%|██▌       | 38/151 [21:34<1:11:26, 37.94s/it]"
     ]
    },
    {
     "name": "stdout",
     "output_type": "stream",
     "text": [
      "{'step': '2857', 'None': 7}\n"
     ]
    },
    {
     "name": "stderr",
     "output_type": "stream",
     "text": [
      "100%|██████████| 7/7 [00:25<00:00,  3.70s/it]\n",
      " 26%|██▌       | 39/151 [22:05<1:07:18, 36.06s/it]"
     ]
    },
    {
     "name": "stdout",
     "output_type": "stream",
     "text": [
      "{'step': '2856', 'None': 7}\n"
     ]
    },
    {
     "name": "stderr",
     "output_type": "stream",
     "text": [
      "100%|██████████| 7/7 [00:31<00:00,  4.51s/it]\n",
      " 26%|██▋       | 40/151 [22:42<1:07:12, 36.33s/it]"
     ]
    },
    {
     "name": "stdout",
     "output_type": "stream",
     "text": [
      "{'step': '2855', 'None': 7}\n"
     ]
    },
    {
     "name": "stderr",
     "output_type": "stream",
     "text": [
      "100%|██████████| 7/7 [00:29<00:00,  4.17s/it]\n",
      " 27%|██▋       | 41/151 [23:17<1:05:37, 35.80s/it]"
     ]
    },
    {
     "name": "stdout",
     "output_type": "stream",
     "text": [
      "{'step': '2854', 'None': 7}\n"
     ]
    },
    {
     "name": "stderr",
     "output_type": "stream",
     "text": [
      "100%|██████████| 7/7 [00:29<00:00,  4.18s/it]\n",
      " 28%|██▊       | 42/151 [23:51<1:04:22, 35.43s/it]"
     ]
    },
    {
     "name": "stdout",
     "output_type": "stream",
     "text": [
      "{'step': '2853', 'None': 7}\n"
     ]
    },
    {
     "name": "stderr",
     "output_type": "stream",
     "text": [
      "100%|██████████| 7/7 [00:25<00:00,  3.62s/it]\n",
      " 28%|██▊       | 43/151 [24:22<1:01:10, 33.99s/it]"
     ]
    },
    {
     "name": "stdout",
     "output_type": "stream",
     "text": [
      "{'step': '2852', 'None': 7}\n"
     ]
    },
    {
     "name": "stderr",
     "output_type": "stream",
     "text": [
      "100%|██████████| 7/7 [00:29<00:00,  4.24s/it]\n",
      " 29%|██▉       | 44/151 [24:57<1:01:03, 34.24s/it]"
     ]
    },
    {
     "name": "stdout",
     "output_type": "stream",
     "text": [
      "{'step': '2851', 'None': 7}\n"
     ]
    },
    {
     "name": "stderr",
     "output_type": "stream",
     "text": [
      "100%|██████████| 7/7 [00:27<00:00,  3.97s/it]\n",
      " 30%|██▉       | 45/151 [25:30<1:00:00, 33.96s/it]"
     ]
    },
    {
     "name": "stdout",
     "output_type": "stream",
     "text": [
      "{'step': '2850', 'None': 7}\n"
     ]
    },
    {
     "name": "stderr",
     "output_type": "stream",
     "text": [
      "100%|██████████| 7/7 [00:34<00:00,  4.94s/it]\n",
      " 30%|███       | 46/151 [26:10<1:02:31, 35.73s/it]"
     ]
    },
    {
     "name": "stdout",
     "output_type": "stream",
     "text": [
      "{'step': '2849', 'None': 7}\n"
     ]
    },
    {
     "name": "stderr",
     "output_type": "stream",
     "text": [
      "100%|██████████| 7/7 [00:29<00:00,  4.23s/it]\n",
      " 31%|███       | 47/151 [26:45<1:01:27, 35.45s/it]"
     ]
    },
    {
     "name": "stdout",
     "output_type": "stream",
     "text": [
      "{'step': '2848', 'None': 7}\n"
     ]
    },
    {
     "name": "stderr",
     "output_type": "stream",
     "text": [
      "100%|██████████| 7/7 [00:30<00:00,  4.34s/it]\n",
      " 32%|███▏      | 48/151 [27:21<1:01:01, 35.55s/it]"
     ]
    },
    {
     "name": "stdout",
     "output_type": "stream",
     "text": [
      "{'step': '2847', 'None': 7}\n"
     ]
    },
    {
     "name": "stderr",
     "output_type": "stream",
     "text": [
      "100%|██████████| 7/7 [00:32<00:00,  4.61s/it]\n",
      " 32%|███▏      | 49/151 [27:59<1:01:40, 36.28s/it]"
     ]
    },
    {
     "name": "stdout",
     "output_type": "stream",
     "text": [
      "{'step': '2998', 'None': 7}\n"
     ]
    },
    {
     "name": "stderr",
     "output_type": "stream",
     "text": [
      "100%|██████████| 7/7 [00:31<00:00,  4.54s/it]\n",
      " 33%|███▎      | 50/151 [28:36<1:01:39, 36.63s/it]"
     ]
    },
    {
     "name": "stdout",
     "output_type": "stream",
     "text": [
      "{'step': '3198', 'None': 7}\n"
     ]
    },
    {
     "name": "stderr",
     "output_type": "stream",
     "text": [
      "100%|██████████| 7/7 [00:33<00:00,  4.78s/it]\n",
      " 34%|███▍      | 51/151 [29:15<1:02:20, 37.41s/it]"
     ]
    },
    {
     "name": "stdout",
     "output_type": "stream",
     "text": [
      "{'step': '3398', 'None': 7}\n"
     ]
    },
    {
     "name": "stderr",
     "output_type": "stream",
     "text": [
      "100%|██████████| 7/7 [00:27<00:00,  3.96s/it]\n",
      " 34%|███▍      | 52/151 [29:50<1:00:20, 36.57s/it]"
     ]
    },
    {
     "name": "stdout",
     "output_type": "stream",
     "text": [
      "{'step': '3598', 'None': 7}\n"
     ]
    },
    {
     "name": "stderr",
     "output_type": "stream",
     "text": [
      "100%|██████████| 7/7 [00:32<00:00,  4.63s/it]\n",
      " 35%|███▌      | 53/151 [30:28<1:00:38, 37.12s/it]"
     ]
    },
    {
     "name": "stdout",
     "output_type": "stream",
     "text": [
      "{'step': '3798', 'None': 7}\n"
     ]
    },
    {
     "name": "stderr",
     "output_type": "stream",
     "text": [
      "100%|██████████| 7/7 [00:32<00:00,  4.62s/it]\n",
      " 36%|███▌      | 54/151 [31:07<1:00:54, 37.68s/it]"
     ]
    },
    {
     "name": "stdout",
     "output_type": "stream",
     "text": [
      "{'step': '3998', 'None': 7}\n"
     ]
    },
    {
     "name": "stderr",
     "output_type": "stream",
     "text": [
      "100%|██████████| 7/7 [00:34<00:00,  4.89s/it]\n",
      " 36%|███▋      | 55/151 [31:48<1:01:48, 38.63s/it]"
     ]
    },
    {
     "name": "stdout",
     "output_type": "stream",
     "text": [
      "{'step': '4198', 'None': 5, 'Klaus Mueller': 2}\n"
     ]
    },
    {
     "name": "stderr",
     "output_type": "stream",
     "text": [
      "100%|██████████| 7/7 [01:00<00:00,  8.66s/it]\n",
      " 37%|███▋      | 56/151 [32:55<1:14:45, 47.21s/it]"
     ]
    },
    {
     "name": "stdout",
     "output_type": "stream",
     "text": [
      "{'step': '4398', 'None': 5, 'Maria Lopez': 1, 'Klaus Mueller': 1}\n"
     ]
    },
    {
     "name": "stderr",
     "output_type": "stream",
     "text": [
      "100%|██████████| 7/7 [00:38<00:00,  5.48s/it]\n",
      " 38%|███▊      | 57/151 [33:41<1:13:08, 46.68s/it]"
     ]
    },
    {
     "name": "stdout",
     "output_type": "stream",
     "text": [
      "{'step': '4598', 'None': 7}\n"
     ]
    },
    {
     "name": "stderr",
     "output_type": "stream",
     "text": [
      "100%|██████████| 7/7 [00:35<00:00,  5.08s/it]\n",
      " 38%|███▊      | 58/151 [34:23<1:10:18, 45.36s/it]"
     ]
    },
    {
     "name": "stdout",
     "output_type": "stream",
     "text": [
      "{'step': '4778', 'None': 7}\n"
     ]
    },
    {
     "name": "stderr",
     "output_type": "stream",
     "text": [
      "100%|██████████| 7/7 [00:38<00:00,  5.50s/it]\n",
      " 39%|███▉      | 59/151 [35:08<1:09:28, 45.30s/it]"
     ]
    },
    {
     "name": "stdout",
     "output_type": "stream",
     "text": [
      "{'step': '4797', 'None': 5, 'Maria Lopez': 1, 'Klaus Mueller': 1}\n"
     ]
    },
    {
     "name": "stderr",
     "output_type": "stream",
     "text": [
      "100%|██████████| 7/7 [00:32<00:00,  4.71s/it]\n",
      " 40%|███▉      | 60/151 [35:48<1:06:18, 43.72s/it]"
     ]
    },
    {
     "name": "stdout",
     "output_type": "stream",
     "text": [
      "{'step': '4975', 'None': 6, 'Klaus Mueller': 1}\n"
     ]
    },
    {
     "name": "stderr",
     "output_type": "stream",
     "text": [
      "100%|██████████| 7/7 [00:39<00:00,  5.62s/it]\n",
      " 40%|████      | 61/151 [36:35<1:06:48, 44.54s/it]"
     ]
    },
    {
     "name": "stdout",
     "output_type": "stream",
     "text": [
      "{'step': '4996', 'None': 6, 'Klaus Mueller': 1}\n"
     ]
    },
    {
     "name": "stderr",
     "output_type": "stream",
     "text": [
      "100%|██████████| 7/7 [00:36<00:00,  5.17s/it]\n",
      " 41%|████      | 62/151 [37:18<1:05:33, 44.20s/it]"
     ]
    },
    {
     "name": "stdout",
     "output_type": "stream",
     "text": [
      "{'step': '5196', 'None': 6, 'Klaus Mueller': 1}\n"
     ]
    },
    {
     "name": "stderr",
     "output_type": "stream",
     "text": [
      "100%|██████████| 7/7 [00:29<00:00,  4.26s/it]\n",
      " 42%|████▏     | 63/151 [37:56<1:02:00, 42.28s/it]"
     ]
    },
    {
     "name": "stdout",
     "output_type": "stream",
     "text": [
      "{'step': '5396', 'None': 6, 'Maria Lopez': 1}\n"
     ]
    },
    {
     "name": "stderr",
     "output_type": "stream",
     "text": [
      "100%|██████████| 7/7 [00:39<00:00,  5.70s/it]\n",
      " 42%|████▏     | 64/151 [38:44<1:03:38, 43.89s/it]"
     ]
    },
    {
     "name": "stdout",
     "output_type": "stream",
     "text": [
      "{'step': '5596', 'None': 6, 'Maria Lopez': 1}\n"
     ]
    },
    {
     "name": "stderr",
     "output_type": "stream",
     "text": [
      "100%|██████████| 7/7 [00:31<00:00,  4.45s/it]\n",
      " 43%|████▎     | 65/151 [39:23<1:00:51, 42.46s/it]"
     ]
    },
    {
     "name": "stdout",
     "output_type": "stream",
     "text": [
      "{'step': '5796', 'None': 6, 'Klaus Mueller': 1}\n"
     ]
    },
    {
     "name": "stderr",
     "output_type": "stream",
     "text": [
      "100%|██████████| 7/7 [00:36<00:00,  5.21s/it]\n",
      " 44%|████▎     | 66/151 [40:07<1:01:00, 43.06s/it]"
     ]
    },
    {
     "name": "stdout",
     "output_type": "stream",
     "text": [
      "{'step': '5996', 'None': 7}\n"
     ]
    },
    {
     "name": "stderr",
     "output_type": "stream",
     "text": [
      "100%|██████████| 7/7 [00:39<00:00,  5.69s/it]\n",
      " 44%|████▍     | 67/151 [40:55<1:02:18, 44.50s/it]"
     ]
    },
    {
     "name": "stdout",
     "output_type": "stream",
     "text": [
      "{'step': '6196', 'None': 7}\n"
     ]
    },
    {
     "name": "stderr",
     "output_type": "stream",
     "text": [
      "100%|██████████| 7/7 [00:41<00:00,  5.93s/it]\n",
      " 45%|████▌     | 68/151 [41:45<1:03:43, 46.06s/it]"
     ]
    },
    {
     "name": "stdout",
     "output_type": "stream",
     "text": [
      "{'step': '6396', 'None': 6, 'Maria Lopez': 1}\n"
     ]
    },
    {
     "name": "stderr",
     "output_type": "stream",
     "text": [
      "100%|██████████| 7/7 [00:32<00:00,  4.68s/it]\n",
      " 46%|████▌     | 69/151 [42:26<1:00:57, 44.61s/it]"
     ]
    },
    {
     "name": "stdout",
     "output_type": "stream",
     "text": [
      "{'step': '6450', 'None': 6, 'Maria Lopez': 1}\n"
     ]
    },
    {
     "name": "stderr",
     "output_type": "stream",
     "text": [
      "100%|██████████| 7/7 [00:49<00:00,  7.03s/it]\n",
      " 46%|████▋     | 70/151 [43:23<1:05:20, 48.40s/it]"
     ]
    },
    {
     "name": "stdout",
     "output_type": "stream",
     "text": [
      "{'step': '6449', 'Klaus Mueller': 1, 'None': 6}\n"
     ]
    },
    {
     "name": "stderr",
     "output_type": "stream",
     "text": [
      "100%|██████████| 7/7 [00:40<00:00,  5.79s/it]\n",
      " 47%|████▋     | 71/151 [44:12<1:04:39, 48.50s/it]"
     ]
    },
    {
     "name": "stdout",
     "output_type": "stream",
     "text": [
      "{'step': '6448', 'Maria Lopez': 1, 'None': 6}\n"
     ]
    },
    {
     "name": "stderr",
     "output_type": "stream",
     "text": [
      "100%|██████████| 7/7 [00:43<00:00,  6.19s/it]\n",
      " 48%|████▊     | 72/151 [45:05<1:05:35, 49.82s/it]"
     ]
    },
    {
     "name": "stdout",
     "output_type": "stream",
     "text": [
      "{'step': '6595', 'None': 7}\n"
     ]
    },
    {
     "name": "stderr",
     "output_type": "stream",
     "text": [
      "100%|██████████| 7/7 [00:39<00:00,  5.70s/it]\n",
      " 48%|████▊     | 73/151 [45:54<1:04:31, 49.63s/it]"
     ]
    },
    {
     "name": "stdout",
     "output_type": "stream",
     "text": [
      "{'step': '6795', 'None': 6, 'Maria Lopez': 1}\n"
     ]
    },
    {
     "name": "stderr",
     "output_type": "stream",
     "text": [
      "100%|██████████| 7/7 [00:39<00:00,  5.62s/it]\n",
      " 49%|████▉     | 74/151 [46:43<1:03:26, 49.43s/it]"
     ]
    },
    {
     "name": "stdout",
     "output_type": "stream",
     "text": [
      "{'step': '6995', 'None': 6, 'Maria Lopez': 1}\n"
     ]
    },
    {
     "name": "stderr",
     "output_type": "stream",
     "text": [
      "100%|██████████| 7/7 [00:38<00:00,  5.46s/it]\n",
      " 50%|████▉     | 75/151 [47:31<1:02:03, 49.00s/it]"
     ]
    },
    {
     "name": "stdout",
     "output_type": "stream",
     "text": [
      "{'step': '7195', 'Klaus Mueller': 1, 'None': 6}\n"
     ]
    },
    {
     "name": "stderr",
     "output_type": "stream",
     "text": [
      "100%|██████████| 7/7 [00:42<00:00,  6.11s/it]\n",
      " 50%|█████     | 76/151 [48:23<1:02:17, 49.84s/it]"
     ]
    },
    {
     "name": "stdout",
     "output_type": "stream",
     "text": [
      "{'step': '7395', 'None': 7}\n"
     ]
    },
    {
     "name": "stderr",
     "output_type": "stream",
     "text": [
      "100%|██████████| 7/7 [00:34<00:00,  4.87s/it]\n",
      " 51%|█████     | 77/151 [49:06<59:11, 47.99s/it]  "
     ]
    },
    {
     "name": "stdout",
     "output_type": "stream",
     "text": [
      "{'step': '7595', 'None': 6, 'Klaus Mueller': 1}\n"
     ]
    },
    {
     "name": "stderr",
     "output_type": "stream",
     "text": [
      "100%|██████████| 7/7 [00:34<00:00,  4.87s/it]\n",
      " 52%|█████▏    | 78/151 [49:52<57:34, 47.32s/it]"
     ]
    },
    {
     "name": "stdout",
     "output_type": "stream",
     "text": [
      "{'step': '7795', 'None': 6, 'Klaus Mueller': 1}\n"
     ]
    },
    {
     "name": "stderr",
     "output_type": "stream",
     "text": [
      "100%|██████████| 7/7 [00:39<00:00,  5.68s/it]\n",
      " 52%|█████▏    | 79/151 [50:43<58:09, 48.47s/it]"
     ]
    },
    {
     "name": "stdout",
     "output_type": "stream",
     "text": [
      "{'step': '7995', 'None': 7}\n"
     ]
    },
    {
     "name": "stderr",
     "output_type": "stream",
     "text": [
      "100%|██████████| 7/7 [00:38<00:00,  5.49s/it]\n",
      " 53%|█████▎    | 80/151 [51:32<57:26, 48.54s/it]"
     ]
    },
    {
     "name": "stdout",
     "output_type": "stream",
     "text": [
      "{'step': '8195', 'None': 6, 'Maria Lopez': 1}\n"
     ]
    },
    {
     "name": "stderr",
     "output_type": "stream",
     "text": [
      "100%|██████████| 7/7 [00:37<00:00,  5.33s/it]\n",
      " 54%|█████▎    | 81/151 [52:20<56:23, 48.34s/it]"
     ]
    },
    {
     "name": "stdout",
     "output_type": "stream",
     "text": [
      "{'step': '8395', 'None': 6, 'Klaus Mueller': 1}\n"
     ]
    },
    {
     "name": "stderr",
     "output_type": "stream",
     "text": [
      "100%|██████████| 7/7 [00:33<00:00,  4.73s/it]\n",
      " 54%|█████▍    | 82/151 [53:05<54:26, 47.34s/it]"
     ]
    },
    {
     "name": "stdout",
     "output_type": "stream",
     "text": [
      "{'step': '8595', 'None': 6, 'Maria Lopez': 1}\n"
     ]
    },
    {
     "name": "stderr",
     "output_type": "stream",
     "text": [
      "100%|██████████| 7/7 [00:34<00:00,  4.94s/it]\n",
      " 55%|█████▍    | 83/151 [53:50<52:52, 46.66s/it]"
     ]
    },
    {
     "name": "stdout",
     "output_type": "stream",
     "text": [
      "{'step': '8795', 'None': 6, 'Maria Lopez': 1}\n"
     ]
    },
    {
     "name": "stderr",
     "output_type": "stream",
     "text": [
      "100%|██████████| 7/7 [00:39<00:00,  5.67s/it]\n",
      " 56%|█████▌    | 84/151 [54:40<53:16, 47.71s/it]"
     ]
    },
    {
     "name": "stdout",
     "output_type": "stream",
     "text": [
      "{'step': '8995', 'None': 6, 'Maria Lopez': 1}\n"
     ]
    },
    {
     "name": "stderr",
     "output_type": "stream",
     "text": [
      "100%|██████████| 7/7 [00:42<00:00,  6.08s/it]\n",
      " 56%|█████▋    | 85/151 [55:33<54:18, 49.37s/it]"
     ]
    },
    {
     "name": "stdout",
     "output_type": "stream",
     "text": [
      "{'step': '9195', 'None': 6, 'Maria Lopez': 1}\n"
     ]
    },
    {
     "name": "stderr",
     "output_type": "stream",
     "text": [
      "100%|██████████| 7/7 [00:42<00:00,  6.04s/it]\n",
      " 57%|█████▋    | 86/151 [56:27<54:57, 50.73s/it]"
     ]
    },
    {
     "name": "stdout",
     "output_type": "stream",
     "text": [
      "{'step': '9395', 'None': 7}\n"
     ]
    },
    {
     "name": "stderr",
     "output_type": "stream",
     "text": [
      "100%|██████████| 7/7 [00:44<00:00,  6.32s/it]\n",
      " 58%|█████▊    | 87/151 [57:23<55:32, 52.07s/it]"
     ]
    },
    {
     "name": "stdout",
     "output_type": "stream",
     "text": [
      "{'step': '9595', 'Maria Lopez': 2, 'None': 5}\n"
     ]
    },
    {
     "name": "stderr",
     "output_type": "stream",
     "text": [
      "100%|██████████| 7/7 [00:32<00:00,  4.68s/it]\n",
      " 58%|█████▊    | 88/151 [58:07<52:07, 49.65s/it]"
     ]
    },
    {
     "name": "stdout",
     "output_type": "stream",
     "text": [
      "{'step': '9795', 'None': 6, 'Maria Lopez': 1}\n"
     ]
    },
    {
     "name": "stderr",
     "output_type": "stream",
     "text": [
      "100%|██████████| 7/7 [00:34<00:00,  4.94s/it]\n",
      " 59%|█████▉    | 89/151 [58:53<50:24, 48.78s/it]"
     ]
    },
    {
     "name": "stdout",
     "output_type": "stream",
     "text": [
      "{'step': '9995', 'None': 6, 'Maria Lopez': 1}\n"
     ]
    },
    {
     "name": "stderr",
     "output_type": "stream",
     "text": [
      "100%|██████████| 7/7 [00:38<00:00,  5.52s/it]\n",
      " 60%|█████▉    | 90/151 [59:44<50:03, 49.23s/it]"
     ]
    },
    {
     "name": "stdout",
     "output_type": "stream",
     "text": [
      "{'step': '10195', 'Maria Lopez': 3, 'None': 3, 'Klaus Mueller': 1}\n"
     ]
    },
    {
     "name": "stderr",
     "output_type": "stream",
     "text": [
      "100%|██████████| 7/7 [00:38<00:00,  5.56s/it]\n",
      " 60%|██████    | 91/151 [1:00:36<50:04, 50.08s/it]"
     ]
    },
    {
     "name": "stdout",
     "output_type": "stream",
     "text": [
      "{'step': '10395', 'None': 5, 'Maria Lopez': 2}\n"
     ]
    },
    {
     "name": "stderr",
     "output_type": "stream",
     "text": [
      "100%|██████████| 7/7 [00:33<00:00,  4.77s/it]\n",
      " 61%|██████    | 92/151 [1:01:22<48:12, 49.03s/it]"
     ]
    },
    {
     "name": "stdout",
     "output_type": "stream",
     "text": [
      "{'step': '10595', 'None': 6, 'Maria Lopez': 1}\n"
     ]
    },
    {
     "name": "stderr",
     "output_type": "stream",
     "text": [
      "100%|██████████| 7/7 [00:43<00:00,  6.16s/it]\n",
      " 62%|██████▏   | 93/151 [1:02:17<49:07, 50.82s/it]"
     ]
    },
    {
     "name": "stdout",
     "output_type": "stream",
     "text": [
      "{'step': '10795', 'None': 6, 'Maria Lopez': 1}\n"
     ]
    },
    {
     "name": "stderr",
     "output_type": "stream",
     "text": [
      "100%|██████████| 7/7 [00:39<00:00,  5.67s/it]\n",
      " 62%|██████▏   | 94/151 [1:03:09<48:26, 51.00s/it]"
     ]
    },
    {
     "name": "stdout",
     "output_type": "stream",
     "text": [
      "{'step': '10995', 'None': 6, 'Maria Lopez': 1}\n"
     ]
    },
    {
     "name": "stderr",
     "output_type": "stream",
     "text": [
      "100%|██████████| 7/7 [00:59<00:00,  8.43s/it]\n",
      " 63%|██████▎   | 95/151 [1:04:20<53:14, 57.05s/it]"
     ]
    },
    {
     "name": "stdout",
     "output_type": "stream",
     "text": [
      "{'step': '11145', 'None': 5, 'Maria Lopez': 2}\n"
     ]
    },
    {
     "name": "stderr",
     "output_type": "stream",
     "text": [
      "100%|██████████| 7/7 [00:42<00:00,  6.01s/it]\n",
      " 64%|██████▎   | 96/151 [1:05:14<51:28, 56.15s/it]"
     ]
    },
    {
     "name": "stdout",
     "output_type": "stream",
     "text": [
      "{'step': '11194', 'None': 6, 'Maria Lopez': 1}\n"
     ]
    },
    {
     "name": "stderr",
     "output_type": "stream",
     "text": [
      "100%|██████████| 7/7 [00:43<00:00,  6.26s/it]\n",
      " 64%|██████▍   | 97/151 [1:06:10<50:28, 56.09s/it]"
     ]
    },
    {
     "name": "stdout",
     "output_type": "stream",
     "text": [
      "{'step': '11394', 'None': 6, 'Maria Lopez': 1}\n"
     ]
    },
    {
     "name": "stderr",
     "output_type": "stream",
     "text": [
      "100%|██████████| 7/7 [00:37<00:00,  5.38s/it]\n",
      " 65%|██████▍   | 98/151 [1:07:00<48:04, 54.43s/it]"
     ]
    },
    {
     "name": "stdout",
     "output_type": "stream",
     "text": [
      "{'step': '11594', 'None': 6, 'Maria Lopez': 1}\n"
     ]
    },
    {
     "name": "stderr",
     "output_type": "stream",
     "text": [
      "100%|██████████| 7/7 [00:30<00:00,  4.35s/it]\n",
      " 66%|██████▌   | 99/151 [1:07:45<44:33, 51.42s/it]"
     ]
    },
    {
     "name": "stdout",
     "output_type": "stream",
     "text": [
      "{'step': '11794', 'None': 6, 'Maria Lopez': 1}\n"
     ]
    },
    {
     "name": "stderr",
     "output_type": "stream",
     "text": [
      "100%|██████████| 7/7 [00:42<00:00,  6.10s/it]\n",
      " 66%|██████▌   | 100/151 [1:08:42<45:06, 53.07s/it]"
     ]
    },
    {
     "name": "stdout",
     "output_type": "stream",
     "text": [
      "{'step': '11994', 'None': 6, 'Maria Lopez': 1}\n"
     ]
    },
    {
     "name": "stderr",
     "output_type": "stream",
     "text": [
      "100%|██████████| 7/7 [00:36<00:00,  5.18s/it]\n",
      " 67%|██████▋   | 101/151 [1:09:31<43:13, 51.86s/it]"
     ]
    },
    {
     "name": "stdout",
     "output_type": "stream",
     "text": [
      "{'step': '12194', 'None': 6, 'Maria Lopez': 1}\n"
     ]
    },
    {
     "name": "stderr",
     "output_type": "stream",
     "text": [
      "100%|██████████| 7/7 [00:37<00:00,  5.33s/it]\n",
      " 68%|██████▊   | 102/151 [1:10:22<42:09, 51.63s/it]"
     ]
    },
    {
     "name": "stdout",
     "output_type": "stream",
     "text": [
      "{'step': '12394', 'None': 5, 'Maria Lopez': 2}\n"
     ]
    },
    {
     "name": "stderr",
     "output_type": "stream",
     "text": [
      "100%|██████████| 7/7 [00:37<00:00,  5.34s/it]\n",
      " 68%|██████▊   | 103/151 [1:11:12<41:02, 51.31s/it]"
     ]
    },
    {
     "name": "stdout",
     "output_type": "stream",
     "text": [
      "{'step': '12594', 'None': 5, 'Maria Lopez': 2}\n"
     ]
    },
    {
     "name": "stderr",
     "output_type": "stream",
     "text": [
      "100%|██████████| 7/7 [00:41<00:00,  5.87s/it]\n",
      " 69%|██████▉   | 104/151 [1:12:07<40:56, 52.26s/it]"
     ]
    },
    {
     "name": "stdout",
     "output_type": "stream",
     "text": [
      "{'step': '12794', 'None': 6, 'Maria Lopez': 1}\n"
     ]
    },
    {
     "name": "stderr",
     "output_type": "stream",
     "text": [
      "100%|██████████| 7/7 [00:40<00:00,  5.78s/it]\n",
      " 70%|██████▉   | 105/151 [1:13:01<40:33, 52.91s/it]"
     ]
    },
    {
     "name": "stdout",
     "output_type": "stream",
     "text": [
      "{'step': '12994', 'None': 5, 'Maria Lopez': 2}\n"
     ]
    },
    {
     "name": "stderr",
     "output_type": "stream",
     "text": [
      "100%|██████████| 7/7 [00:39<00:00,  5.69s/it]\n",
      " 70%|███████   | 106/151 [1:13:56<40:01, 53.36s/it]"
     ]
    },
    {
     "name": "stdout",
     "output_type": "stream",
     "text": [
      "{'step': '13194', 'Maria Lopez': 3, 'None': 4}\n"
     ]
    },
    {
     "name": "stderr",
     "output_type": "stream",
     "text": [
      "100%|██████████| 7/7 [00:36<00:00,  5.27s/it]\n",
      " 71%|███████   | 107/151 [1:14:47<38:36, 52.65s/it]"
     ]
    },
    {
     "name": "stdout",
     "output_type": "stream",
     "text": [
      "{'step': '13394', 'Maria Lopez': 2, 'None': 5}\n"
     ]
    },
    {
     "name": "stderr",
     "output_type": "stream",
     "text": [
      "100%|██████████| 7/7 [00:39<00:00,  5.60s/it]\n",
      " 72%|███████▏  | 108/151 [1:15:41<38:09, 53.25s/it]"
     ]
    },
    {
     "name": "stdout",
     "output_type": "stream",
     "text": [
      "{'step': '13594', 'Maria Lopez': 3, 'None': 4}\n"
     ]
    },
    {
     "name": "stderr",
     "output_type": "stream",
     "text": [
      "100%|██████████| 7/7 [00:31<00:00,  4.52s/it]\n",
      " 72%|███████▏  | 109/151 [1:16:28<35:53, 51.26s/it]"
     ]
    },
    {
     "name": "stdout",
     "output_type": "stream",
     "text": [
      "{'step': '13794', 'None': 5, 'Maria Lopez': 2}\n"
     ]
    },
    {
     "name": "stderr",
     "output_type": "stream",
     "text": [
      "100%|██████████| 7/7 [06:26<00:00, 55.26s/it]\n",
      " 73%|███████▎  | 110/151 [1:32:41<3:44:00, 327.81s/it]"
     ]
    },
    {
     "name": "stdout",
     "output_type": "stream",
     "text": [
      "{'step': '13994', 'None': 5, 'Maria Lopez': 2}\n"
     ]
    },
    {
     "name": "stderr",
     "output_type": "stream",
     "text": [
      "100%|██████████| 7/7 [1:56:42<00:00, 1000.35s/it]\n",
      " 74%|███████▎  | 111/151 [3:46:14<29:15:33, 2633.33s/it]"
     ]
    },
    {
     "name": "stdout",
     "output_type": "stream",
     "text": [
      "{'step': '14194', 'None': 6, 'Maria Lopez': 1}\n"
     ]
    },
    {
     "name": "stderr",
     "output_type": "stream",
     "text": [
      "100%|██████████| 7/7 [00:25<00:00,  3.65s/it]\n",
      " 74%|███████▍  | 112/151 [3:46:54<20:05:56, 1855.30s/it]"
     ]
    },
    {
     "name": "stdout",
     "output_type": "stream",
     "text": [
      "{'step': '14394', 'None': 5, 'Maria Lopez': 2}\n"
     ]
    },
    {
     "name": "stderr",
     "output_type": "stream",
     "text": [
      "100%|██████████| 7/7 [00:24<00:00,  3.44s/it]\n",
      " 75%|███████▍  | 113/151 [3:47:33<13:49:57, 1310.45s/it]"
     ]
    },
    {
     "name": "stdout",
     "output_type": "stream",
     "text": [
      "{'step': '14594', 'None': 6, 'Maria Lopez': 1}\n"
     ]
    },
    {
     "name": "stderr",
     "output_type": "stream",
     "text": [
      "100%|██████████| 7/7 [00:25<00:00,  3.71s/it]\n",
      " 75%|███████▌  | 114/151 [3:48:13<9:33:02, 929.27s/it]  "
     ]
    },
    {
     "name": "stdout",
     "output_type": "stream",
     "text": [
      "{'step': '14794', 'None': 5, 'Klaus Mueller': 1, 'Maria Lopez': 1}\n"
     ]
    },
    {
     "name": "stderr",
     "output_type": "stream",
     "text": [
      "100%|██████████| 7/7 [00:25<00:00,  3.62s/it]\n",
      " 76%|███████▌  | 115/151 [3:48:52<6:37:22, 662.28s/it]"
     ]
    },
    {
     "name": "stdout",
     "output_type": "stream",
     "text": [
      "{'step': '14994', 'None': 5, 'Maria Lopez': 2}\n"
     ]
    },
    {
     "name": "stderr",
     "output_type": "stream",
     "text": [
      "100%|██████████| 7/7 [00:27<00:00,  3.89s/it]\n",
      " 77%|███████▋  | 116/151 [3:49:34<4:37:43, 476.09s/it]"
     ]
    },
    {
     "name": "stdout",
     "output_type": "stream",
     "text": [
      "{'step': '15194', 'None': 6, 'Maria Lopez': 1}\n"
     ]
    },
    {
     "name": "stderr",
     "output_type": "stream",
     "text": [
      "100%|██████████| 7/7 [00:28<00:00,  4.03s/it]\n",
      " 77%|███████▋  | 117/151 [3:50:18<3:16:20, 346.47s/it]"
     ]
    },
    {
     "name": "stdout",
     "output_type": "stream",
     "text": [
      "{'step': '15394', 'Maria Lopez': 2, 'None': 4, 'Klaus Mueller': 1}\n"
     ]
    },
    {
     "name": "stderr",
     "output_type": "stream",
     "text": [
      "100%|██████████| 7/7 [00:28<00:00,  4.06s/it]\n",
      " 78%|███████▊  | 118/151 [3:51:01<2:20:30, 255.47s/it]"
     ]
    },
    {
     "name": "stdout",
     "output_type": "stream",
     "text": [
      "{'step': '15488', 'Maria Lopez': 2, 'None': 5}\n"
     ]
    },
    {
     "name": "stderr",
     "output_type": "stream",
     "text": [
      "100%|██████████| 7/7 [00:26<00:00,  3.73s/it]\n",
      " 79%|███████▉  | 119/151 [3:51:42<1:41:53, 191.05s/it]"
     ]
    },
    {
     "name": "stdout",
     "output_type": "stream",
     "text": [
      "{'step': '15487', 'None': 5, 'Maria Lopez': 2}\n"
     ]
    },
    {
     "name": "stderr",
     "output_type": "stream",
     "text": [
      "100%|██████████| 7/7 [00:26<00:00,  3.78s/it]\n",
      " 79%|███████▉  | 120/151 [3:52:23<1:15:29, 146.12s/it]"
     ]
    },
    {
     "name": "stdout",
     "output_type": "stream",
     "text": [
      "{'step': '15486', 'None': 5, 'Maria Lopez': 2}\n"
     ]
    },
    {
     "name": "stderr",
     "output_type": "stream",
     "text": [
      "100%|██████████| 7/7 [00:33<00:00,  4.83s/it]\n",
      " 80%|████████  | 121/151 [3:53:15<58:56, 117.90s/it]  "
     ]
    },
    {
     "name": "stdout",
     "output_type": "stream",
     "text": [
      "{'step': '15485', 'None': 5, 'Maria Lopez': 2}\n"
     ]
    },
    {
     "name": "stderr",
     "output_type": "stream",
     "text": [
      "100%|██████████| 7/7 [00:29<00:00,  4.22s/it]\n",
      " 81%|████████  | 122/151 [3:54:00<46:21, 95.91s/it] "
     ]
    },
    {
     "name": "stdout",
     "output_type": "stream",
     "text": [
      "{'step': '15484', 'None': 4, 'Maria Lopez': 2, 'Klaus Mueller': 1}\n"
     ]
    },
    {
     "name": "stderr",
     "output_type": "stream",
     "text": [
      "100%|██████████| 7/7 [00:27<00:00,  3.88s/it]\n",
      " 81%|████████▏ | 123/151 [3:54:41<37:09, 79.63s/it]"
     ]
    },
    {
     "name": "stdout",
     "output_type": "stream",
     "text": [
      "{'step': '15483', 'None': 5, 'Klaus Mueller': 1, 'Maria Lopez': 1}\n"
     ]
    },
    {
     "name": "stderr",
     "output_type": "stream",
     "text": [
      "100%|██████████| 7/7 [00:27<00:00,  3.93s/it]\n",
      " 82%|████████▏ | 124/151 [3:55:25<31:01, 68.96s/it]"
     ]
    },
    {
     "name": "stdout",
     "output_type": "stream",
     "text": [
      "{'step': '15482', 'None': 5, 'Klaus Mueller': 1, 'Maria Lopez': 1}\n"
     ]
    },
    {
     "name": "stderr",
     "output_type": "stream",
     "text": [
      "100%|██████████| 7/7 [00:28<00:00,  4.02s/it]\n",
      " 83%|████████▎ | 125/151 [3:56:08<26:31, 61.22s/it]"
     ]
    },
    {
     "name": "stdout",
     "output_type": "stream",
     "text": [
      "{'step': '15481', 'None': 6, 'Maria Lopez': 1}\n"
     ]
    },
    {
     "name": "stderr",
     "output_type": "stream",
     "text": [
      "100%|██████████| 7/7 [00:27<00:00,  3.86s/it]\n",
      " 83%|████████▎ | 126/151 [3:56:50<23:01, 55.28s/it]"
     ]
    },
    {
     "name": "stdout",
     "output_type": "stream",
     "text": [
      "{'step': '15480', 'Maria Lopez': 3, 'None': 4}\n"
     ]
    },
    {
     "name": "stderr",
     "output_type": "stream",
     "text": [
      "100%|██████████| 7/7 [00:26<00:00,  3.83s/it]\n",
      " 84%|████████▍ | 127/151 [3:57:31<20:26, 51.11s/it]"
     ]
    },
    {
     "name": "stdout",
     "output_type": "stream",
     "text": [
      "{'step': '15479', 'None': 5, 'Maria Lopez': 2}\n"
     ]
    },
    {
     "name": "stderr",
     "output_type": "stream",
     "text": [
      "100%|██████████| 7/7 [00:26<00:00,  3.76s/it]\n",
      " 85%|████████▍ | 128/151 [3:58:12<18:22, 47.93s/it]"
     ]
    },
    {
     "name": "stdout",
     "output_type": "stream",
     "text": [
      "{'step': '15478', 'None': 6, 'Maria Lopez': 1}\n"
     ]
    },
    {
     "name": "stderr",
     "output_type": "stream",
     "text": [
      "100%|██████████| 7/7 [00:25<00:00,  3.65s/it]\n",
      " 85%|████████▌ | 129/151 [3:58:52<16:45, 45.69s/it]"
     ]
    },
    {
     "name": "stdout",
     "output_type": "stream",
     "text": [
      "{'step': '15477', 'Maria Lopez': 3, 'None': 3, 'Klaus Mueller': 1}\n"
     ]
    },
    {
     "name": "stderr",
     "output_type": "stream",
     "text": [
      "100%|██████████| 7/7 [00:25<00:00,  3.67s/it]\n",
      " 86%|████████▌ | 130/151 [3:59:32<15:25, 44.05s/it]"
     ]
    },
    {
     "name": "stdout",
     "output_type": "stream",
     "text": [
      "{'step': '15476', 'Maria Lopez': 2, 'None': 5}\n"
     ]
    },
    {
     "name": "stderr",
     "output_type": "stream",
     "text": [
      "100%|██████████| 7/7 [00:26<00:00,  3.81s/it]\n",
      " 87%|████████▋ | 131/151 [4:00:15<14:32, 43.64s/it]"
     ]
    },
    {
     "name": "stdout",
     "output_type": "stream",
     "text": [
      "{'step': '15475', 'None': 4, 'Maria Lopez': 2, 'Klaus Mueller': 1}\n"
     ]
    },
    {
     "name": "stderr",
     "output_type": "stream",
     "text": [
      "100%|██████████| 7/7 [00:26<00:00,  3.74s/it]\n",
      " 87%|████████▋ | 132/151 [4:00:56<13:32, 42.74s/it]"
     ]
    },
    {
     "name": "stdout",
     "output_type": "stream",
     "text": [
      "{'step': '15474', 'Maria Lopez': 2, 'None': 5}\n"
     ]
    },
    {
     "name": "stderr",
     "output_type": "stream",
     "text": [
      "100%|██████████| 7/7 [00:24<00:00,  3.48s/it]\n",
      " 88%|████████▊ | 133/151 [4:01:35<12:31, 41.73s/it]"
     ]
    },
    {
     "name": "stdout",
     "output_type": "stream",
     "text": [
      "{'step': '15473', 'None': 5, 'Maria Lopez': 2}\n"
     ]
    },
    {
     "name": "stderr",
     "output_type": "stream",
     "text": [
      "100%|██████████| 7/7 [00:30<00:00,  4.34s/it]\n",
      " 89%|████████▊ | 134/151 [4:02:21<12:08, 42.87s/it]"
     ]
    },
    {
     "name": "stdout",
     "output_type": "stream",
     "text": [
      "{'step': '15472', 'None': 6, 'Maria Lopez': 1}\n"
     ]
    },
    {
     "name": "stderr",
     "output_type": "stream",
     "text": [
      "100%|██████████| 7/7 [00:27<00:00,  3.94s/it]\n",
      " 89%|████████▉ | 135/151 [4:03:03<11:24, 42.75s/it]"
     ]
    },
    {
     "name": "stdout",
     "output_type": "stream",
     "text": [
      "{'step': '15471', 'None': 4, 'Maria Lopez': 2, 'Klaus Mueller': 1}\n"
     ]
    },
    {
     "name": "stderr",
     "output_type": "stream",
     "text": [
      "100%|██████████| 7/7 [00:22<00:00,  3.24s/it]\n",
      " 90%|█████████ | 136/151 [4:03:41<10:17, 41.15s/it]"
     ]
    },
    {
     "name": "stdout",
     "output_type": "stream",
     "text": [
      "{'step': '15470', 'None': 6, 'Maria Lopez': 1}\n"
     ]
    },
    {
     "name": "stderr",
     "output_type": "stream",
     "text": [
      "100%|██████████| 7/7 [00:25<00:00,  3.70s/it]\n",
      " 91%|█████████ | 137/151 [4:04:21<09:33, 40.95s/it]"
     ]
    },
    {
     "name": "stdout",
     "output_type": "stream",
     "text": [
      "{'step': '15469', 'Maria Lopez': 3, 'None': 4}\n"
     ]
    },
    {
     "name": "stderr",
     "output_type": "stream",
     "text": [
      "100%|██████████| 7/7 [00:23<00:00,  3.39s/it]\n",
      " 91%|█████████▏| 138/151 [4:05:00<08:42, 40.22s/it]"
     ]
    },
    {
     "name": "stdout",
     "output_type": "stream",
     "text": [
      "{'step': '15468', 'None': 5, 'Klaus Mueller': 1, 'Maria Lopez': 1}\n"
     ]
    },
    {
     "name": "stderr",
     "output_type": "stream",
     "text": [
      "100%|██████████| 7/7 [00:26<00:00,  3.75s/it]\n",
      " 92%|█████████▏| 139/151 [4:05:40<08:04, 40.39s/it]"
     ]
    },
    {
     "name": "stdout",
     "output_type": "stream",
     "text": [
      "{'step': '15467', 'None': 4, 'Maria Lopez': 3}\n"
     ]
    },
    {
     "name": "stderr",
     "output_type": "stream",
     "text": [
      "100%|██████████| 7/7 [00:24<00:00,  3.48s/it]\n",
      " 93%|█████████▎| 140/151 [4:06:19<07:18, 39.89s/it]"
     ]
    },
    {
     "name": "stdout",
     "output_type": "stream",
     "text": [
      "{'step': '15466', 'None': 6, 'Maria Lopez': 1}\n"
     ]
    },
    {
     "name": "stderr",
     "output_type": "stream",
     "text": [
      "100%|██████████| 7/7 [00:23<00:00,  3.34s/it]\n",
      " 93%|█████████▎| 141/151 [4:06:57<06:34, 39.40s/it]"
     ]
    },
    {
     "name": "stdout",
     "output_type": "stream",
     "text": [
      "{'step': '15465', 'Maria Lopez': 2, 'None': 4, 'Klaus Mueller': 1}\n"
     ]
    },
    {
     "name": "stderr",
     "output_type": "stream",
     "text": [
      "100%|██████████| 7/7 [00:25<00:00,  3.63s/it]\n",
      " 94%|█████████▍| 142/151 [4:07:38<05:57, 39.72s/it]"
     ]
    },
    {
     "name": "stdout",
     "output_type": "stream",
     "text": [
      "{'step': '15464', 'None': 6, 'Maria Lopez': 1}\n"
     ]
    },
    {
     "name": "stderr",
     "output_type": "stream",
     "text": [
      "100%|██████████| 7/7 [00:23<00:00,  3.32s/it]\n",
      " 95%|█████████▍| 143/151 [4:08:15<05:12, 39.03s/it]"
     ]
    },
    {
     "name": "stdout",
     "output_type": "stream",
     "text": [
      "{'step': '15463', 'None': 6, 'Maria Lopez': 1}\n"
     ]
    },
    {
     "name": "stderr",
     "output_type": "stream",
     "text": [
      "100%|██████████| 7/7 [00:26<00:00,  3.72s/it]\n",
      " 95%|█████████▌| 144/151 [4:08:55<04:35, 39.41s/it]"
     ]
    },
    {
     "name": "stdout",
     "output_type": "stream",
     "text": [
      "{'step': '15462', 'None': 6, 'Maria Lopez': 1}\n"
     ]
    },
    {
     "name": "stderr",
     "output_type": "stream",
     "text": [
      "100%|██████████| 7/7 [00:27<00:00,  3.94s/it]\n",
      " 96%|█████████▌| 145/151 [4:09:37<04:00, 40.13s/it]"
     ]
    },
    {
     "name": "stdout",
     "output_type": "stream",
     "text": [
      "{'step': '15461', 'None': 6, 'Maria Lopez': 1}\n"
     ]
    },
    {
     "name": "stderr",
     "output_type": "stream",
     "text": [
      "100%|██████████| 7/7 [00:23<00:00,  3.39s/it]\n",
      " 97%|█████████▋| 146/151 [4:10:15<03:17, 39.52s/it]"
     ]
    },
    {
     "name": "stdout",
     "output_type": "stream",
     "text": [
      "{'step': '15460', 'None': 6, 'Maria Lopez': 1}\n"
     ]
    },
    {
     "name": "stderr",
     "output_type": "stream",
     "text": [
      "100%|██████████| 7/7 [00:26<00:00,  3.84s/it]\n",
      " 97%|█████████▋| 147/151 [4:10:56<02:39, 39.97s/it]"
     ]
    },
    {
     "name": "stdout",
     "output_type": "stream",
     "text": [
      "{'step': '15459', 'None': 6, 'Maria Lopez': 1}\n"
     ]
    },
    {
     "name": "stderr",
     "output_type": "stream",
     "text": [
      "100%|██████████| 7/7 [00:23<00:00,  3.35s/it]\n",
      " 98%|█████████▊| 148/151 [4:11:34<01:57, 39.27s/it]"
     ]
    },
    {
     "name": "stdout",
     "output_type": "stream",
     "text": [
      "{'step': '15458', 'None': 5, 'Maria Lopez': 2}\n"
     ]
    },
    {
     "name": "stderr",
     "output_type": "stream",
     "text": [
      "100%|██████████| 7/7 [00:25<00:00,  3.58s/it]\n",
      " 99%|█████████▊| 149/151 [4:12:13<01:18, 39.28s/it]"
     ]
    },
    {
     "name": "stdout",
     "output_type": "stream",
     "text": [
      "{'step': '15457', 'None': 5, 'Maria Lopez': 2}\n"
     ]
    },
    {
     "name": "stderr",
     "output_type": "stream",
     "text": [
      "100%|██████████| 7/7 [00:28<00:00,  4.12s/it]\n",
      " 99%|█████████▉| 150/151 [4:12:56<00:40, 40.44s/it]"
     ]
    },
    {
     "name": "stdout",
     "output_type": "stream",
     "text": [
      "{'step': '15456', 'None': 7}\n"
     ]
    },
    {
     "name": "stderr",
     "output_type": "stream",
     "text": [
      "100%|██████████| 7/7 [00:25<00:00,  3.68s/it]\n",
      "100%|██████████| 151/151 [4:13:36<00:00, 100.77s/it]"
     ]
    },
    {
     "name": "stdout",
     "output_type": "stream",
     "text": [
      "{'step': '15455', 'None': 6, 'Maria Lopez': 1}\n"
     ]
    },
    {
     "name": "stderr",
     "output_type": "stream",
     "text": [
      "\n"
     ]
    }
   ],
   "source": [
    "PATH_SIM = \"base_the_ville_smol_elections_5_voters_2days\"\n",
    "\n",
    "folders = get_folders(f\"../../environment/frontend_server/storage/{PATH_SIM}\")\n",
    "folders_sorted = sorted(folders, key=lambda x: int(x.split(\"-\")[-3]))\n",
    "\n",
    "SAVE_PATH = \"survey/\"\n",
    "curr_datetime = datetime.datetime.now().strftime(\"%Y-%m-%d_%H-%M\")\n",
    "\n",
    "results = []\n",
    "all_convos = []\n",
    "all_predictions = []\n",
    "df_survey = pd.DataFrame(columns=list(map(lambda x: x.split(\"-\")[-3], folders_sorted)))\n",
    "if input(\"Load last results? (y/n): \") == \"y\":\n",
    "    results = load_file(get_files(SAVE_PATH, \"results\")[-1])\n",
    "    all_convos = load_file(get_files(SAVE_PATH, \"convos\")[-1])\n",
    "    all_predictions = load_file(get_files(SAVE_PATH, \"predictions\")[-1])\n",
    "    print(results)\n",
    "else:\n",
    "    counter = 0\n",
    "    for PATH_STAGE in tqdm(folders_sorted):\n",
    "        rs = clean_start_server(f\"{PATH_SIM}/{PATH_STAGE}\")\n",
    "        convos = get_survey_responses(rs, \"Who are you planning to vote in the coming elections?\")\n",
    "        predictions = extract_survey_responses(convos, extract_survey_prompt, gpt_param)\n",
    "        \n",
    "        results.append(\n",
    "            update_results({\"step\": PATH_STAGE.split(\"-\")[-2], \"file_stage\": PATH_STAGE.split(\"-\")[-3], \"loop_stage\": counter}, predictions))\n",
    "        all_convos.append(convos)\n",
    "        all_predictions.append(predictions)\n",
    "\n",
    "        save_file(results, f\"{SAVE_PATH}/results_{curr_datetime}.pkl\")\n",
    "        save_file(all_convos, f\"{SAVE_PATH}/convos_{curr_datetime}.pkl\")\n",
    "        save_file(all_predictions, f\"{SAVE_PATH}/predictions_{curr_datetime}.pkl\")\n",
    "\n",
    "        counter += 1\n",
    "        print(results[-1])"
   ]
  },
  {
   "cell_type": "code",
   "execution_count": 40,
   "metadata": {},
   "outputs": [
    {
     "data": {
      "image/png": "[encoded data removed]",
      "text/plain": [
       "<Figure size 1200x400 with 2 Axes>"
      ]
     },
     "metadata": {},
     "output_type": "display_data"
    }
   ],
   "source": [
    "import matplotlib.pyplot as plt\n",
    "\n",
    "df_survey = pd.DataFrame(results).fillna(0)\n",
    "df = df_survey.drop(\"step\", axis=1).reset_index(drop=True)\n",
    "\n",
    "plt.subplots(1, 2, figsize=(12, 4), gridspec_kw={'width_ratios': [3, 1]})\n",
    "plt.subplot(1, 2, 1)\n",
    "ax = plt.gca()\n",
    "window = 5\n",
    "mean = df.rolling(window).mean()\n",
    "std = df.rolling(window).std()\n",
    "mean.plot(ax=ax)\n",
    "for i in range(len(df.columns)):\n",
    "    ax.fill_between(std.index, (mean-std).iloc[:, i].values, (mean+std).iloc[:, i].values, color='b', alpha=0.1)\n",
    "plt.title(f\"Survey Results, not filtered, rolling mean {window} steps\")\n",
    "plt.xlabel(\"Stage\")\n",
    "plt.ylabel(\"Count\")\n",
    "\n",
    "plt.subplot(1, 2, 2)\n",
    "final_steps = list(map(lambda x: int(x.split(\"-\")[-2]), folders_sorted))\n",
    "y = np.arange(0, len(final_steps))\n",
    "\n",
    "# plt.figure(figsize=(10, 5))\n",
    "# plt.scatter(final_steps, y, c=\"red\", s=1)\n",
    "\n",
    "plt.hist(np.diff(final_steps), bins=20)\n",
    "plt.title(\"Distribution of steps diff\")\n",
    "plt.xlabel(\"Steps diff between stages\")\n",
    "plt.show()"
   ]
  },
  {
   "cell_type": "code",
   "execution_count": 55,
   "metadata": {},
   "outputs": [
    {
     "data": {
      "image/png": "[encoded data removed]",
      "text/plain": [
       "<Figure size 1200x400 with 2 Axes>"
      ]
     },
     "metadata": {},
     "output_type": "display_data"
    }
   ],
   "source": [
    "df_survey = pd.DataFrame(results).fillna(0)\n",
    "final_steps_diff = np.diff(final_steps, prepend=0)\n",
    "filtered_steps_mask = final_steps_diff > 100\n",
    "filtered_steps = np.array(final_steps)[filtered_steps_mask]\n",
    "df = df_survey.loc[filtered_steps_mask, :].drop(\"step\", axis=1).reset_index(drop=True)\n",
    "\n",
    "plt.subplots(1, 2, figsize=(12, 4), gridspec_kw={'width_ratios': [3, 1]})\n",
    "plt.subplot(1, 2, 1)\n",
    "ax = plt.gca()\n",
    "window = 1\n",
    "mean = df.rolling(window).mean()\n",
    "std = df.rolling(window).std()\n",
    "mean.plot(ax=ax)\n",
    "for i in range(len(df.columns)):\n",
    "    ax.fill_between(std.index, (mean-std).iloc[:, i].values, (mean+std).iloc[:, i].values, color='b', alpha=0.1)\n",
    "plt.title(f\"Survey Results, filtered steps diff > 100, rolling mean {window} steps\")\n",
    "plt.xlabel(\"Stage\")\n",
    "plt.ylabel(\"Count\")\n",
    "x_ticks_gran = 5\n",
    "plt.xticks(\n",
    "    [i for i in range(1, len(filtered_steps)+1, x_ticks_gran)], \n",
    "    labels = list(map(lambda x: x * datetime.timedelta(seconds=2000), [i for i in range(1, len(filtered_steps)+1, x_ticks_gran)])),\n",
    "    rotation=45)\n",
    "\n",
    "plt.subplot(1, 2, 2)\n",
    "plt.hist(final_steps_diff[filtered_steps_mask], bins=20)\n",
    "plt.xlabel(\"Steps diff between stages\")\n",
    "plt.title(\"Distribution of steps diff\")\n",
    "plt.show()"
   ]
  },
  {
   "cell_type": "code",
   "execution_count": 58,
   "metadata": {},
   "outputs": [
    {
     "data": {
      "text/plain": [
       "[('I am still in the process of evaluating the candidates and their platforms. I plan to discuss my voting preferences with Adam Smith later today to get a better understanding of their policies and how they align with my values. I am considering both Klaus Mauller and Maria Lopez as potential candidates, and I want to make an informed decision before casting my vote in the upcoming elections.',\n",
       "  'None'),\n",
       " (\"I am planning to vote for Adam Smith in the upcoming elections. He has shown support for my environmental initiatives and campaign, and I believe he will prioritize environmental issues in his policy decisions. It's important to me that our leaders prioritize sustainability and conservation efforts for the future of our town.\",\n",
       "  'None'),\n",
       " (\"I'm sorry, I am currently focused on my research on gentrification and collaboration with Maria. I believe our efforts in understanding societal issues through literature are important at the moment. So, I haven't had much time to delve into the details of the upcoming elections and candidates.\",\n",
       "  'None'),\n",
       " (\"I haven't made a final decision yet, but I'm leaning towards Klaus Mauller based on his environmental proposals and track record in promoting sustainable practices. Maria Lopez also has some interesting ideas on community engagement, so I'm still weighing my options. I plan to attend one of their events to hear directly from the candidates before making my decision.\",\n",
       "  'None'),\n",
       " (\"I am planning to vote in the coming elections, but I am still gathering information and discussing different candidates' policies with people like Isabella Rodriguez. I believe it's important to make an informed decision based on the candidates' platforms and how well they align with my values and beliefs.\",\n",
       "  'None'),\n",
       " (\"I'm still evaluating both candidates, Klaus Mauller and Maria Lopez. I want to make sure I make an informed decision based on their proposals and what they plan to do for the town. I have a meeting scheduled with Maria Lopez tomorrow at 3:00 PM at The Rose and Crown Pub to discuss her ideas further. I'll continue to research and stay updated on any events or debates to help me make my decision.\",\n",
       "  'None'),\n",
       " (\"I haven't decided yet. I'm still analyzing the candidates and their platforms to make an informed decision. I want to see how their proposed policies align with the themes we've been studying in literature, particularly in relation to community issues and social justice.\",\n",
       "  'None')]"
      ]
     },
     "execution_count": 58,
     "metadata": {},
     "output_type": "execute_result"
    }
   ],
   "source": [
    "all_predictions[85]"
   ]
  },
  {
   "cell_type": "code",
   "execution_count": 59,
   "metadata": {},
   "outputs": [
    {
     "data": {
      "text/plain": [
       "[{'step': '0', 'None': 7},\n",
       " {'step': '199', 'None': 7},\n",
       " {'step': '399', 'None': 7},\n",
       " {'step': '599', 'None': 7},\n",
       " {'step': '799', 'Klaus Mueller': 1, 'None': 6},\n",
       " {'step': '999', 'None': 7},\n",
       " {'step': '1199', 'None': 7},\n",
       " {'step': '1399', 'None': 7},\n",
       " {'step': '1599', 'None': 7},\n",
       " {'step': '1799', 'None': 7},\n",
       " {'step': '1999', 'None': 7},\n",
       " {'step': '2199', 'None': 7},\n",
       " {'step': '2399', 'None': 7},\n",
       " {'step': '2599', 'None': 7},\n",
       " {'step': '2799', 'None': 7},\n",
       " {'step': '2879', 'None': 7},\n",
       " {'step': '2878', 'None': 7},\n",
       " {'step': '2877', 'None': 7},\n",
       " {'step': '2876', 'None': 7},\n",
       " {'step': '2875', 'None': 7},\n",
       " {'step': '2874', 'None': 7},\n",
       " {'step': '2873', 'None': 7},\n",
       " {'step': '2872', 'None': 7},\n",
       " {'step': '2871', 'None': 7},\n",
       " {'step': '2870', 'None': 7},\n",
       " {'step': '2869', 'None': 7},\n",
       " {'step': '2868', 'None': 7},\n",
       " {'step': '2867', 'None': 7},\n",
       " {'step': '2866', 'None': 7},\n",
       " {'step': '2865', 'None': 7},\n",
       " {'step': '2864', 'None': 7},\n",
       " {'step': '2863', 'None': 7},\n",
       " {'step': '2862', 'None': 7},\n",
       " {'step': '2861', 'None': 7},\n",
       " {'step': '2860', 'None': 7},\n",
       " {'step': '2859', 'None': 7},\n",
       " {'step': '2858', 'None': 7},\n",
       " {'step': '2857', 'None': 7},\n",
       " {'step': '2856', 'None': 7},\n",
       " {'step': '2855', 'None': 7},\n",
       " {'step': '2854', 'None': 7},\n",
       " {'step': '2853', 'None': 7},\n",
       " {'step': '2852', 'None': 7},\n",
       " {'step': '2851', 'None': 7},\n",
       " {'step': '2850', 'None': 7},\n",
       " {'step': '2849', 'None': 7},\n",
       " {'step': '2848', 'None': 7},\n",
       " {'step': '2847', 'None': 7},\n",
       " {'step': '2998', 'None': 7},\n",
       " {'step': '3198', 'None': 7},\n",
       " {'step': '3398', 'None': 7},\n",
       " {'step': '3598', 'None': 7},\n",
       " {'step': '3798', 'None': 7},\n",
       " {'step': '3998', 'None': 7},\n",
       " {'step': '4198', 'None': 5, 'Klaus Mueller': 2},\n",
       " {'step': '4398', 'None': 5, 'Maria Lopez': 1, 'Klaus Mueller': 1},\n",
       " {'step': '4598', 'None': 7},\n",
       " {'step': '4778', 'None': 7},\n",
       " {'step': '4797', 'None': 5, 'Maria Lopez': 1, 'Klaus Mueller': 1},\n",
       " {'step': '4975', 'None': 6, 'Klaus Mueller': 1},\n",
       " {'step': '4996', 'None': 6, 'Klaus Mueller': 1},\n",
       " {'step': '5196', 'None': 6, 'Klaus Mueller': 1},\n",
       " {'step': '5396', 'None': 6, 'Maria Lopez': 1},\n",
       " {'step': '5596', 'None': 6, 'Maria Lopez': 1},\n",
       " {'step': '5796', 'None': 6, 'Klaus Mueller': 1},\n",
       " {'step': '5996', 'None': 7},\n",
       " {'step': '6196', 'None': 7},\n",
       " {'step': '6396', 'None': 6, 'Maria Lopez': 1},\n",
       " {'step': '6450', 'None': 6, 'Maria Lopez': 1},\n",
       " {'step': '6449', 'Klaus Mueller': 1, 'None': 6},\n",
       " {'step': '6448', 'Maria Lopez': 1, 'None': 6},\n",
       " {'step': '6595', 'None': 7},\n",
       " {'step': '6795', 'None': 6, 'Maria Lopez': 1},\n",
       " {'step': '6995', 'None': 6, 'Maria Lopez': 1},\n",
       " {'step': '7195', 'Klaus Mueller': 1, 'None': 6},\n",
       " {'step': '7395', 'None': 7},\n",
       " {'step': '7595', 'None': 6, 'Klaus Mueller': 1},\n",
       " {'step': '7795', 'None': 6, 'Klaus Mueller': 1},\n",
       " {'step': '7995', 'None': 7},\n",
       " {'step': '8195', 'None': 6, 'Maria Lopez': 1},\n",
       " {'step': '8395', 'None': 6, 'Klaus Mueller': 1},\n",
       " {'step': '8595', 'None': 6, 'Maria Lopez': 1},\n",
       " {'step': '8795', 'None': 6, 'Maria Lopez': 1},\n",
       " {'step': '8995', 'None': 6, 'Maria Lopez': 1},\n",
       " {'step': '9195', 'None': 6, 'Maria Lopez': 1},\n",
       " {'step': '9395', 'None': 7},\n",
       " {'step': '9595', 'Maria Lopez': 2, 'None': 5},\n",
       " {'step': '9795', 'None': 6, 'Maria Lopez': 1},\n",
       " {'step': '9995', 'None': 6, 'Maria Lopez': 1},\n",
       " {'step': '10195', 'Maria Lopez': 3, 'None': 3, 'Klaus Mueller': 1},\n",
       " {'step': '10395', 'None': 5, 'Maria Lopez': 2},\n",
       " {'step': '10595', 'None': 6, 'Maria Lopez': 1},\n",
       " {'step': '10795', 'None': 6, 'Maria Lopez': 1},\n",
       " {'step': '10995', 'None': 6, 'Maria Lopez': 1},\n",
       " {'step': '11145', 'None': 5, 'Maria Lopez': 2},\n",
       " {'step': '11194', 'None': 6, 'Maria Lopez': 1},\n",
       " {'step': '11394', 'None': 6, 'Maria Lopez': 1},\n",
       " {'step': '11594', 'None': 6, 'Maria Lopez': 1},\n",
       " {'step': '11794', 'None': 6, 'Maria Lopez': 1},\n",
       " {'step': '11994', 'None': 6, 'Maria Lopez': 1},\n",
       " {'step': '12194', 'None': 6, 'Maria Lopez': 1},\n",
       " {'step': '12394', 'None': 5, 'Maria Lopez': 2},\n",
       " {'step': '12594', 'None': 5, 'Maria Lopez': 2},\n",
       " {'step': '12794', 'None': 6, 'Maria Lopez': 1},\n",
       " {'step': '12994', 'None': 5, 'Maria Lopez': 2},\n",
       " {'step': '13194', 'Maria Lopez': 3, 'None': 4},\n",
       " {'step': '13394', 'Maria Lopez': 2, 'None': 5},\n",
       " {'step': '13594', 'Maria Lopez': 3, 'None': 4},\n",
       " {'step': '13794', 'None': 5, 'Maria Lopez': 2},\n",
       " {'step': '13994', 'None': 5, 'Maria Lopez': 2},\n",
       " {'step': '14194', 'None': 6, 'Maria Lopez': 1},\n",
       " {'step': '14394', 'None': 5, 'Maria Lopez': 2},\n",
       " {'step': '14594', 'None': 6, 'Maria Lopez': 1},\n",
       " {'step': '14794', 'None': 5, 'Klaus Mueller': 1, 'Maria Lopez': 1},\n",
       " {'step': '14994', 'None': 5, 'Maria Lopez': 2},\n",
       " {'step': '15194', 'None': 6, 'Maria Lopez': 1},\n",
       " {'step': '15394', 'Maria Lopez': 2, 'None': 4, 'Klaus Mueller': 1},\n",
       " {'step': '15488', 'Maria Lopez': 2, 'None': 5},\n",
       " {'step': '15487', 'None': 5, 'Maria Lopez': 2},\n",
       " {'step': '15486', 'None': 5, 'Maria Lopez': 2},\n",
       " {'step': '15485', 'None': 5, 'Maria Lopez': 2},\n",
       " {'step': '15484', 'None': 4, 'Maria Lopez': 2, 'Klaus Mueller': 1},\n",
       " {'step': '15483', 'None': 5, 'Klaus Mueller': 1, 'Maria Lopez': 1},\n",
       " {'step': '15482', 'None': 5, 'Klaus Mueller': 1, 'Maria Lopez': 1},\n",
       " {'step': '15481', 'None': 6, 'Maria Lopez': 1},\n",
       " {'step': '15480', 'Maria Lopez': 3, 'None': 4},\n",
       " {'step': '15479', 'None': 5, 'Maria Lopez': 2},\n",
       " {'step': '15478', 'None': 6, 'Maria Lopez': 1},\n",
       " {'step': '15477', 'Maria Lopez': 3, 'None': 3, 'Klaus Mueller': 1},\n",
       " {'step': '15476', 'Maria Lopez': 2, 'None': 5},\n",
       " {'step': '15475', 'None': 4, 'Maria Lopez': 2, 'Klaus Mueller': 1},\n",
       " {'step': '15474', 'Maria Lopez': 2, 'None': 5},\n",
       " {'step': '15473', 'None': 5, 'Maria Lopez': 2},\n",
       " {'step': '15472', 'None': 6, 'Maria Lopez': 1},\n",
       " {'step': '15471', 'None': 4, 'Maria Lopez': 2, 'Klaus Mueller': 1},\n",
       " {'step': '15470', 'None': 6, 'Maria Lopez': 1},\n",
       " {'step': '15469', 'Maria Lopez': 3, 'None': 4},\n",
       " {'step': '15468', 'None': 5, 'Klaus Mueller': 1, 'Maria Lopez': 1},\n",
       " {'step': '15467', 'None': 4, 'Maria Lopez': 3},\n",
       " {'step': '15466', 'None': 6, 'Maria Lopez': 1},\n",
       " {'step': '15465', 'Maria Lopez': 2, 'None': 4, 'Klaus Mueller': 1},\n",
       " {'step': '15464', 'None': 6, 'Maria Lopez': 1},\n",
       " {'step': '15463', 'None': 6, 'Maria Lopez': 1},\n",
       " {'step': '15462', 'None': 6, 'Maria Lopez': 1},\n",
       " {'step': '15461', 'None': 6, 'Maria Lopez': 1},\n",
       " {'step': '15460', 'None': 6, 'Maria Lopez': 1},\n",
       " {'step': '15459', 'None': 6, 'Maria Lopez': 1},\n",
       " {'step': '15458', 'None': 5, 'Maria Lopez': 2},\n",
       " {'step': '15457', 'None': 5, 'Maria Lopez': 2},\n",
       " {'step': '15456', 'None': 7},\n",
       " {'step': '15455', 'None': 6, 'Maria Lopez': 1}]"
      ]
     },
     "execution_count": 59,
     "metadata": {},
     "output_type": "execute_result"
    }
   ],
   "source": [
    "results"
   ]
  },
  {
   "cell_type": "code",
   "execution_count": null,
   "metadata": {},
   "outputs": [],
   "source": []
  }
 ],
 "metadata": {
  "kernelspec": {
   "display_name": "simulacra",
   "language": "python",
   "name": "python3"
  },
  "language_info": {
   "codemirror_mode": {
    "name": "ipython",
    "version": 3
   },
   "file_extension": ".py",
   "mimetype": "text/x-python",
   "name": "python",
   "nbconvert_exporter": "python",
   "pygments_lexer": "ipython3",
   "version": "3.9.12"
  }
 },
 "nbformat": 4,
 "nbformat_minor": 2
}
